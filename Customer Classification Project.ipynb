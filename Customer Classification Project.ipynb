{
 "cells": [
  {
   "cell_type": "markdown",
   "metadata": {},
   "source": [
    "# Project: Customer classification of wholesale customers"
   ]
  },
  {
   "cell_type": "markdown",
   "metadata": {},
   "source": [
    ">  ## Introduction"
   ]
  },
  {
   "cell_type": "markdown",
   "metadata": {},
   "source": [
    "The wholesale customers data is available on the UCI Machine Learning Repository. The dataset contains eight  columns and contains information on the customers of a  wholesale distributor, operating in different regions.The goal of this project is to apply supervised  machine learning classification techniques to classify  customer types."
   ]
  },
  {
   "cell_type": "markdown",
   "metadata": {},
   "source": [
    " **Import Libraries**"
   ]
  },
  {
   "cell_type": "code",
   "execution_count": 2,
   "metadata": {},
   "outputs": [],
   "source": [
    "#Importing required libraries\n",
    "import pandas as pd\n",
    "import numpy as np\n",
    "import seaborn as sns\n",
    "import matplotlib.pyplot as plt"
   ]
  },
  {
   "cell_type": "markdown",
   "metadata": {},
   "source": [
    "**Getting Data**"
   ]
  },
  {
   "cell_type": "code",
   "execution_count": 3,
   "metadata": {},
   "outputs": [],
   "source": [
    "#Getting wholesale customers dataset form UCI Machine Learning Repository\n",
    "df=pd.read_csv('https://archive.ics.uci.edu/ml/machine-learning-databases/00292/Wholesale%20customers%20data.csv')"
   ]
  },
  {
   "cell_type": "markdown",
   "metadata": {},
   "source": [
    "> # Data Exploratrion"
   ]
  },
  {
   "cell_type": "markdown",
   "metadata": {},
   "source": [
    "In this section, we will use visualizations and code to understand what is in a dataset and the characteristics of the data, and a statistical description of the overall dataset.In data exploration step ,it is always good to start checking the dimension of the dataset."
   ]
  },
  {
   "cell_type": "code",
   "execution_count": 4,
   "metadata": {},
   "outputs": [
    {
     "data": {
      "text/plain": [
       "(440, 8)"
      ]
     },
     "execution_count": 4,
     "metadata": {},
     "output_type": "execute_result"
    }
   ],
   "source": [
    "##Checking dimension of the dataset\n",
    "df.shape"
   ]
  },
  {
   "cell_type": "code",
   "execution_count": 5,
   "metadata": {},
   "outputs": [
    {
     "data": {
      "text/html": [
       "<div>\n",
       "<style scoped>\n",
       "    .dataframe tbody tr th:only-of-type {\n",
       "        vertical-align: middle;\n",
       "    }\n",
       "\n",
       "    .dataframe tbody tr th {\n",
       "        vertical-align: top;\n",
       "    }\n",
       "\n",
       "    .dataframe thead th {\n",
       "        text-align: right;\n",
       "    }\n",
       "</style>\n",
       "<table border=\"1\" class=\"dataframe\">\n",
       "  <thead>\n",
       "    <tr style=\"text-align: right;\">\n",
       "      <th></th>\n",
       "      <th>Channel</th>\n",
       "      <th>Region</th>\n",
       "      <th>Fresh</th>\n",
       "      <th>Milk</th>\n",
       "      <th>Grocery</th>\n",
       "      <th>Frozen</th>\n",
       "      <th>Detergents_Paper</th>\n",
       "      <th>Delicassen</th>\n",
       "    </tr>\n",
       "  </thead>\n",
       "  <tbody>\n",
       "    <tr>\n",
       "      <th>0</th>\n",
       "      <td>2</td>\n",
       "      <td>3</td>\n",
       "      <td>12669</td>\n",
       "      <td>9656</td>\n",
       "      <td>7561</td>\n",
       "      <td>214</td>\n",
       "      <td>2674</td>\n",
       "      <td>1338</td>\n",
       "    </tr>\n",
       "    <tr>\n",
       "      <th>1</th>\n",
       "      <td>2</td>\n",
       "      <td>3</td>\n",
       "      <td>7057</td>\n",
       "      <td>9810</td>\n",
       "      <td>9568</td>\n",
       "      <td>1762</td>\n",
       "      <td>3293</td>\n",
       "      <td>1776</td>\n",
       "    </tr>\n",
       "    <tr>\n",
       "      <th>2</th>\n",
       "      <td>2</td>\n",
       "      <td>3</td>\n",
       "      <td>6353</td>\n",
       "      <td>8808</td>\n",
       "      <td>7684</td>\n",
       "      <td>2405</td>\n",
       "      <td>3516</td>\n",
       "      <td>7844</td>\n",
       "    </tr>\n",
       "    <tr>\n",
       "      <th>3</th>\n",
       "      <td>1</td>\n",
       "      <td>3</td>\n",
       "      <td>13265</td>\n",
       "      <td>1196</td>\n",
       "      <td>4221</td>\n",
       "      <td>6404</td>\n",
       "      <td>507</td>\n",
       "      <td>1788</td>\n",
       "    </tr>\n",
       "    <tr>\n",
       "      <th>4</th>\n",
       "      <td>2</td>\n",
       "      <td>3</td>\n",
       "      <td>22615</td>\n",
       "      <td>5410</td>\n",
       "      <td>7198</td>\n",
       "      <td>3915</td>\n",
       "      <td>1777</td>\n",
       "      <td>5185</td>\n",
       "    </tr>\n",
       "  </tbody>\n",
       "</table>\n",
       "</div>"
      ],
      "text/plain": [
       "   Channel  Region  Fresh  Milk  Grocery  Frozen  Detergents_Paper  Delicassen\n",
       "0        2       3  12669  9656     7561     214              2674        1338\n",
       "1        2       3   7057  9810     9568    1762              3293        1776\n",
       "2        2       3   6353  8808     7684    2405              3516        7844\n",
       "3        1       3  13265  1196     4221    6404               507        1788\n",
       "4        2       3  22615  5410     7198    3915              1777        5185"
      ]
     },
     "execution_count": 5,
     "metadata": {},
     "output_type": "execute_result"
    }
   ],
   "source": [
    "#Previewing the dataset\n",
    "df.head(5)"
   ]
  },
  {
   "cell_type": "markdown",
   "metadata": {},
   "source": [
    "The data set refers to clients of a wholesale distributor. It includes the annual spending in monetary units on diverse product categories.\n",
    "\n",
    "Features\n",
    "\n",
    "* Fresh: annual spending (m.u.) on fresh products (Continuous);\n",
    "\n",
    "* Milk: annual spending (m.u.) on milk products (Continuous);\n",
    "\n",
    "* Grocery: annual spending (m.u.) on grocery products (Continuous);\n",
    "\n",
    "* Frozen: annual spending (m.u.) on frozen products (Continuous);\n",
    "\n",
    "* Detergents_Paper: annual spending (m.u.) on detergents and paper products (Continuous);\n",
    "\n",
    "* Delicatessen: annual spending (m.u.) on and delicatessen products (Continuous);\n",
    "\n",
    "* Channel: {Hotel/Restaurant/Cafe - 1, Retail - 2} (Nominal)\n",
    "\n",
    "* Region: {Lisbon - 1, Oporto - 2, or Other - 3} (Nominal)"
   ]
  },
  {
   "cell_type": "code",
   "execution_count": 6,
   "metadata": {},
   "outputs": [
    {
     "name": "stdout",
     "output_type": "stream",
     "text": [
      "<class 'pandas.core.frame.DataFrame'>\n",
      "RangeIndex: 440 entries, 0 to 439\n",
      "Data columns (total 8 columns):\n",
      " #   Column            Non-Null Count  Dtype\n",
      "---  ------            --------------  -----\n",
      " 0   Channel           440 non-null    int64\n",
      " 1   Region            440 non-null    int64\n",
      " 2   Fresh             440 non-null    int64\n",
      " 3   Milk              440 non-null    int64\n",
      " 4   Grocery           440 non-null    int64\n",
      " 5   Frozen            440 non-null    int64\n",
      " 6   Detergents_Paper  440 non-null    int64\n",
      " 7   Delicassen        440 non-null    int64\n",
      "dtypes: int64(8)\n",
      "memory usage: 27.6 KB\n"
     ]
    }
   ],
   "source": [
    "#Getting information of the dataset\n",
    "df.info()"
   ]
  },
  {
   "cell_type": "markdown",
   "metadata": {},
   "source": [
    "- all data types are numeric"
   ]
  },
  {
   "cell_type": "markdown",
   "metadata": {},
   "source": [
    "**Check for missing values**"
   ]
  },
  {
   "cell_type": "code",
   "execution_count": 7,
   "metadata": {},
   "outputs": [
    {
     "data": {
      "text/plain": [
       "Channel             0\n",
       "Region              0\n",
       "Fresh               0\n",
       "Milk                0\n",
       "Grocery             0\n",
       "Frozen              0\n",
       "Detergents_Paper    0\n",
       "Delicassen          0\n",
       "dtype: int64"
      ]
     },
     "execution_count": 7,
     "metadata": {},
     "output_type": "execute_result"
    }
   ],
   "source": [
    "# Check for missing values\n",
    "df.isnull().sum()"
   ]
  },
  {
   "cell_type": "code",
   "execution_count": 8,
   "metadata": {
    "scrolled": true
   },
   "outputs": [
    {
     "data": {
      "text/plain": [
       "<matplotlib.axes._subplots.AxesSubplot at 0x25b90f1e348>"
      ]
     },
     "execution_count": 8,
     "metadata": {},
     "output_type": "execute_result"
    },
    {
     "data": {
      "image/png": "[encoded data removed]",
      "text/plain": [
       "<Figure size 432x288 with 2 Axes>"
      ]
     },
     "metadata": {
      "needs_background": "light"
     },
     "output_type": "display_data"
    }
   ],
   "source": [
    "#Visualize for missing values by using heatmap \n",
    "sns.heatmap(df.isnull())"
   ]
  },
  {
   "cell_type": "code",
   "execution_count": 9,
   "metadata": {},
   "outputs": [
    {
     "data": {
      "text/html": [
       "<div>\n",
       "<style scoped>\n",
       "    .dataframe tbody tr th:only-of-type {\n",
       "        vertical-align: middle;\n",
       "    }\n",
       "\n",
       "    .dataframe tbody tr th {\n",
       "        vertical-align: top;\n",
       "    }\n",
       "\n",
       "    .dataframe thead th {\n",
       "        text-align: right;\n",
       "    }\n",
       "</style>\n",
       "<table border=\"1\" class=\"dataframe\">\n",
       "  <thead>\n",
       "    <tr style=\"text-align: right;\">\n",
       "      <th></th>\n",
       "      <th>Channel</th>\n",
       "      <th>Region</th>\n",
       "      <th>Fresh</th>\n",
       "      <th>Milk</th>\n",
       "      <th>Grocery</th>\n",
       "      <th>Frozen</th>\n",
       "      <th>Detergents_Paper</th>\n",
       "      <th>Delicassen</th>\n",
       "    </tr>\n",
       "  </thead>\n",
       "  <tbody>\n",
       "    <tr>\n",
       "      <th>count</th>\n",
       "      <td>440.000000</td>\n",
       "      <td>440.000000</td>\n",
       "      <td>440.000000</td>\n",
       "      <td>440.000000</td>\n",
       "      <td>440.000000</td>\n",
       "      <td>440.000000</td>\n",
       "      <td>440.000000</td>\n",
       "      <td>440.000000</td>\n",
       "    </tr>\n",
       "    <tr>\n",
       "      <th>mean</th>\n",
       "      <td>1.322727</td>\n",
       "      <td>2.543182</td>\n",
       "      <td>12000.297727</td>\n",
       "      <td>5796.265909</td>\n",
       "      <td>7951.277273</td>\n",
       "      <td>3071.931818</td>\n",
       "      <td>2881.493182</td>\n",
       "      <td>1524.870455</td>\n",
       "    </tr>\n",
       "    <tr>\n",
       "      <th>std</th>\n",
       "      <td>0.468052</td>\n",
       "      <td>0.774272</td>\n",
       "      <td>12647.328865</td>\n",
       "      <td>7380.377175</td>\n",
       "      <td>9503.162829</td>\n",
       "      <td>4854.673333</td>\n",
       "      <td>4767.854448</td>\n",
       "      <td>2820.105937</td>\n",
       "    </tr>\n",
       "    <tr>\n",
       "      <th>min</th>\n",
       "      <td>1.000000</td>\n",
       "      <td>1.000000</td>\n",
       "      <td>3.000000</td>\n",
       "      <td>55.000000</td>\n",
       "      <td>3.000000</td>\n",
       "      <td>25.000000</td>\n",
       "      <td>3.000000</td>\n",
       "      <td>3.000000</td>\n",
       "    </tr>\n",
       "    <tr>\n",
       "      <th>25%</th>\n",
       "      <td>1.000000</td>\n",
       "      <td>2.000000</td>\n",
       "      <td>3127.750000</td>\n",
       "      <td>1533.000000</td>\n",
       "      <td>2153.000000</td>\n",
       "      <td>742.250000</td>\n",
       "      <td>256.750000</td>\n",
       "      <td>408.250000</td>\n",
       "    </tr>\n",
       "    <tr>\n",
       "      <th>50%</th>\n",
       "      <td>1.000000</td>\n",
       "      <td>3.000000</td>\n",
       "      <td>8504.000000</td>\n",
       "      <td>3627.000000</td>\n",
       "      <td>4755.500000</td>\n",
       "      <td>1526.000000</td>\n",
       "      <td>816.500000</td>\n",
       "      <td>965.500000</td>\n",
       "    </tr>\n",
       "    <tr>\n",
       "      <th>75%</th>\n",
       "      <td>2.000000</td>\n",
       "      <td>3.000000</td>\n",
       "      <td>16933.750000</td>\n",
       "      <td>7190.250000</td>\n",
       "      <td>10655.750000</td>\n",
       "      <td>3554.250000</td>\n",
       "      <td>3922.000000</td>\n",
       "      <td>1820.250000</td>\n",
       "    </tr>\n",
       "    <tr>\n",
       "      <th>max</th>\n",
       "      <td>2.000000</td>\n",
       "      <td>3.000000</td>\n",
       "      <td>112151.000000</td>\n",
       "      <td>73498.000000</td>\n",
       "      <td>92780.000000</td>\n",
       "      <td>60869.000000</td>\n",
       "      <td>40827.000000</td>\n",
       "      <td>47943.000000</td>\n",
       "    </tr>\n",
       "  </tbody>\n",
       "</table>\n",
       "</div>"
      ],
      "text/plain": [
       "          Channel      Region          Fresh          Milk       Grocery  \\\n",
       "count  440.000000  440.000000     440.000000    440.000000    440.000000   \n",
       "mean     1.322727    2.543182   12000.297727   5796.265909   7951.277273   \n",
       "std      0.468052    0.774272   12647.328865   7380.377175   9503.162829   \n",
       "min      1.000000    1.000000       3.000000     55.000000      3.000000   \n",
       "25%      1.000000    2.000000    3127.750000   1533.000000   2153.000000   \n",
       "50%      1.000000    3.000000    8504.000000   3627.000000   4755.500000   \n",
       "75%      2.000000    3.000000   16933.750000   7190.250000  10655.750000   \n",
       "max      2.000000    3.000000  112151.000000  73498.000000  92780.000000   \n",
       "\n",
       "             Frozen  Detergents_Paper    Delicassen  \n",
       "count    440.000000        440.000000    440.000000  \n",
       "mean    3071.931818       2881.493182   1524.870455  \n",
       "std     4854.673333       4767.854448   2820.105937  \n",
       "min       25.000000          3.000000      3.000000  \n",
       "25%      742.250000        256.750000    408.250000  \n",
       "50%     1526.000000        816.500000    965.500000  \n",
       "75%     3554.250000       3922.000000   1820.250000  \n",
       "max    60869.000000      40827.000000  47943.000000  "
      ]
     },
     "execution_count": 9,
     "metadata": {},
     "output_type": "execute_result"
    }
   ],
   "source": [
    "#Display Statistical Summary of the dataset\n",
    "df.describe()"
   ]
  },
  {
   "cell_type": "code",
   "execution_count": 10,
   "metadata": {},
   "outputs": [
    {
     "name": "stdout",
     "output_type": "stream",
     "text": [
      "Channel\n",
      "1    298\n",
      "2    142\n",
      "dtype: int64\n"
     ]
    }
   ],
   "source": [
    "#Checking 'Channel' Frequency\n",
    "print(df.groupby('Channel').size())"
   ]
  },
  {
   "cell_type": "code",
   "execution_count": 11,
   "metadata": {},
   "outputs": [
    {
     "name": "stdout",
     "output_type": "stream",
     "text": [
      "Region\n",
      "1     77\n",
      "2     47\n",
      "3    316\n",
      "dtype: int64\n"
     ]
    }
   ],
   "source": [
    "#Checking 'Region' Frequency\n",
    "print(df.groupby('Region').size())"
   ]
  },
  {
   "cell_type": "markdown",
   "metadata": {},
   "source": [
    "> # Data Preparation"
   ]
  },
  {
   "cell_type": "markdown",
   "metadata": {},
   "source": [
    "In this project I will use only one label data('Channel') to classify customer types"
   ]
  },
  {
   "cell_type": "code",
   "execution_count": 12,
   "metadata": {},
   "outputs": [],
   "source": [
    "del df['Region']"
   ]
  },
  {
   "cell_type": "code",
   "execution_count": 13,
   "metadata": {},
   "outputs": [
    {
     "data": {
      "text/html": [
       "<div>\n",
       "<style scoped>\n",
       "    .dataframe tbody tr th:only-of-type {\n",
       "        vertical-align: middle;\n",
       "    }\n",
       "\n",
       "    .dataframe tbody tr th {\n",
       "        vertical-align: top;\n",
       "    }\n",
       "\n",
       "    .dataframe thead th {\n",
       "        text-align: right;\n",
       "    }\n",
       "</style>\n",
       "<table border=\"1\" class=\"dataframe\">\n",
       "  <thead>\n",
       "    <tr style=\"text-align: right;\">\n",
       "      <th></th>\n",
       "      <th>Channel</th>\n",
       "      <th>Fresh</th>\n",
       "      <th>Milk</th>\n",
       "      <th>Grocery</th>\n",
       "      <th>Frozen</th>\n",
       "      <th>Detergents_Paper</th>\n",
       "      <th>Delicassen</th>\n",
       "    </tr>\n",
       "  </thead>\n",
       "  <tbody>\n",
       "    <tr>\n",
       "      <th>0</th>\n",
       "      <td>2</td>\n",
       "      <td>12669</td>\n",
       "      <td>9656</td>\n",
       "      <td>7561</td>\n",
       "      <td>214</td>\n",
       "      <td>2674</td>\n",
       "      <td>1338</td>\n",
       "    </tr>\n",
       "    <tr>\n",
       "      <th>1</th>\n",
       "      <td>2</td>\n",
       "      <td>7057</td>\n",
       "      <td>9810</td>\n",
       "      <td>9568</td>\n",
       "      <td>1762</td>\n",
       "      <td>3293</td>\n",
       "      <td>1776</td>\n",
       "    </tr>\n",
       "    <tr>\n",
       "      <th>2</th>\n",
       "      <td>2</td>\n",
       "      <td>6353</td>\n",
       "      <td>8808</td>\n",
       "      <td>7684</td>\n",
       "      <td>2405</td>\n",
       "      <td>3516</td>\n",
       "      <td>7844</td>\n",
       "    </tr>\n",
       "    <tr>\n",
       "      <th>3</th>\n",
       "      <td>1</td>\n",
       "      <td>13265</td>\n",
       "      <td>1196</td>\n",
       "      <td>4221</td>\n",
       "      <td>6404</td>\n",
       "      <td>507</td>\n",
       "      <td>1788</td>\n",
       "    </tr>\n",
       "    <tr>\n",
       "      <th>4</th>\n",
       "      <td>2</td>\n",
       "      <td>22615</td>\n",
       "      <td>5410</td>\n",
       "      <td>7198</td>\n",
       "      <td>3915</td>\n",
       "      <td>1777</td>\n",
       "      <td>5185</td>\n",
       "    </tr>\n",
       "  </tbody>\n",
       "</table>\n",
       "</div>"
      ],
      "text/plain": [
       "   Channel  Fresh  Milk  Grocery  Frozen  Detergents_Paper  Delicassen\n",
       "0        2  12669  9656     7561     214              2674        1338\n",
       "1        2   7057  9810     9568    1762              3293        1776\n",
       "2        2   6353  8808     7684    2405              3516        7844\n",
       "3        1  13265  1196     4221    6404               507        1788\n",
       "4        2  22615  5410     7198    3915              1777        5185"
      ]
     },
     "execution_count": 13,
     "metadata": {},
     "output_type": "execute_result"
    }
   ],
   "source": [
    "#Checking dataset after delete 'Region' column\n",
    "df.head(5)"
   ]
  },
  {
   "cell_type": "markdown",
   "metadata": {},
   "source": [
    "**Visualize correlation of data**"
   ]
  },
  {
   "cell_type": "code",
   "execution_count": 14,
   "metadata": {},
   "outputs": [
    {
     "data": {
      "image/png": "[encoded data removed]",
      "text/plain": [
       "<Figure size 720x720 with 2 Axes>"
      ]
     },
     "metadata": {
      "needs_background": "light"
     },
     "output_type": "display_data"
    }
   ],
   "source": [
    "#Checking correlation between features and label data by using correlation heat map\n",
    "corrmat=df.corr()\n",
    "top_corr_features=corrmat.index\n",
    "plt.figure(figsize=(10,10))\n",
    "g=sns.heatmap(df[top_corr_features].corr(),annot=True,cmap='RdYlGn')"
   ]
  },
  {
   "cell_type": "markdown",
   "metadata": {},
   "source": [
    "In this correlation matrix,\n",
    "\n",
    "we can see our label data 'Channel' is a strongly correlated with the ‘Grocery’ and ‘Detergent_paper’ features. \n",
    "\n",
    "The features between ‘Grocery’ and ‘Detergent_paper’ are strongly correlated each other.\n",
    "\n",
    "The features ‘Grocery’ and ‘Milk’ also show a good degree of correlation."
   ]
  },
  {
   "cell_type": "code",
   "execution_count": 15,
   "metadata": {},
   "outputs": [],
   "source": [
    "#Convert 'Channel' to categorical variable for further analysis\n",
    "df['Channel'].replace([1,2],['HoReCa','Retail'],inplace=True)"
   ]
  },
  {
   "cell_type": "code",
   "execution_count": 16,
   "metadata": {},
   "outputs": [
    {
     "data": {
      "text/html": [
       "<div>\n",
       "<style scoped>\n",
       "    .dataframe tbody tr th:only-of-type {\n",
       "        vertical-align: middle;\n",
       "    }\n",
       "\n",
       "    .dataframe tbody tr th {\n",
       "        vertical-align: top;\n",
       "    }\n",
       "\n",
       "    .dataframe thead th {\n",
       "        text-align: right;\n",
       "    }\n",
       "</style>\n",
       "<table border=\"1\" class=\"dataframe\">\n",
       "  <thead>\n",
       "    <tr style=\"text-align: right;\">\n",
       "      <th></th>\n",
       "      <th>Fresh</th>\n",
       "      <th>Milk</th>\n",
       "      <th>Grocery</th>\n",
       "      <th>Frozen</th>\n",
       "      <th>Detergents_Paper</th>\n",
       "      <th>Delicassen</th>\n",
       "    </tr>\n",
       "  </thead>\n",
       "  <tbody>\n",
       "    <tr>\n",
       "      <th>count</th>\n",
       "      <td>440.000000</td>\n",
       "      <td>440.000000</td>\n",
       "      <td>440.000000</td>\n",
       "      <td>440.000000</td>\n",
       "      <td>440.000000</td>\n",
       "      <td>440.000000</td>\n",
       "    </tr>\n",
       "    <tr>\n",
       "      <th>mean</th>\n",
       "      <td>12000.297727</td>\n",
       "      <td>5796.265909</td>\n",
       "      <td>7951.277273</td>\n",
       "      <td>3071.931818</td>\n",
       "      <td>2881.493182</td>\n",
       "      <td>1524.870455</td>\n",
       "    </tr>\n",
       "    <tr>\n",
       "      <th>std</th>\n",
       "      <td>12647.328865</td>\n",
       "      <td>7380.377175</td>\n",
       "      <td>9503.162829</td>\n",
       "      <td>4854.673333</td>\n",
       "      <td>4767.854448</td>\n",
       "      <td>2820.105937</td>\n",
       "    </tr>\n",
       "    <tr>\n",
       "      <th>min</th>\n",
       "      <td>3.000000</td>\n",
       "      <td>55.000000</td>\n",
       "      <td>3.000000</td>\n",
       "      <td>25.000000</td>\n",
       "      <td>3.000000</td>\n",
       "      <td>3.000000</td>\n",
       "    </tr>\n",
       "    <tr>\n",
       "      <th>25%</th>\n",
       "      <td>3127.750000</td>\n",
       "      <td>1533.000000</td>\n",
       "      <td>2153.000000</td>\n",
       "      <td>742.250000</td>\n",
       "      <td>256.750000</td>\n",
       "      <td>408.250000</td>\n",
       "    </tr>\n",
       "    <tr>\n",
       "      <th>50%</th>\n",
       "      <td>8504.000000</td>\n",
       "      <td>3627.000000</td>\n",
       "      <td>4755.500000</td>\n",
       "      <td>1526.000000</td>\n",
       "      <td>816.500000</td>\n",
       "      <td>965.500000</td>\n",
       "    </tr>\n",
       "    <tr>\n",
       "      <th>75%</th>\n",
       "      <td>16933.750000</td>\n",
       "      <td>7190.250000</td>\n",
       "      <td>10655.750000</td>\n",
       "      <td>3554.250000</td>\n",
       "      <td>3922.000000</td>\n",
       "      <td>1820.250000</td>\n",
       "    </tr>\n",
       "    <tr>\n",
       "      <th>max</th>\n",
       "      <td>112151.000000</td>\n",
       "      <td>73498.000000</td>\n",
       "      <td>92780.000000</td>\n",
       "      <td>60869.000000</td>\n",
       "      <td>40827.000000</td>\n",
       "      <td>47943.000000</td>\n",
       "    </tr>\n",
       "  </tbody>\n",
       "</table>\n",
       "</div>"
      ],
      "text/plain": [
       "               Fresh          Milk       Grocery        Frozen  \\\n",
       "count     440.000000    440.000000    440.000000    440.000000   \n",
       "mean    12000.297727   5796.265909   7951.277273   3071.931818   \n",
       "std     12647.328865   7380.377175   9503.162829   4854.673333   \n",
       "min         3.000000     55.000000      3.000000     25.000000   \n",
       "25%      3127.750000   1533.000000   2153.000000    742.250000   \n",
       "50%      8504.000000   3627.000000   4755.500000   1526.000000   \n",
       "75%     16933.750000   7190.250000  10655.750000   3554.250000   \n",
       "max    112151.000000  73498.000000  92780.000000  60869.000000   \n",
       "\n",
       "       Detergents_Paper    Delicassen  \n",
       "count        440.000000    440.000000  \n",
       "mean        2881.493182   1524.870455  \n",
       "std         4767.854448   2820.105937  \n",
       "min            3.000000      3.000000  \n",
       "25%          256.750000    408.250000  \n",
       "50%          816.500000    965.500000  \n",
       "75%         3922.000000   1820.250000  \n",
       "max        40827.000000  47943.000000  "
      ]
     },
     "execution_count": 16,
     "metadata": {},
     "output_type": "execute_result"
    }
   ],
   "source": [
    "df.describe()"
   ]
  },
  {
   "cell_type": "markdown",
   "metadata": {},
   "source": [
    "**Visualize Feature Distributions**"
   ]
  },
  {
   "cell_type": "markdown",
   "metadata": {},
   "source": [
    "In order to understand better our dataset, we will display a scatter matrix of every product feature.\n",
    "The product features that show a correlation in the scatter matrix will be relevant to predict others."
   ]
  },
  {
   "cell_type": "code",
   "execution_count": 17,
   "metadata": {},
   "outputs": [
    {
     "data": {
      "image/png": "[encoded data removed]",
      "text/plain": [
       "<Figure size 938.125x864 with 42 Axes>"
      ]
     },
     "metadata": {},
     "output_type": "display_data"
    }
   ],
   "source": [
    "#check for diffencence speration between all features by using pair plot\n",
    "plt.close() \n",
    "sns.set_style('whitegrid')\n",
    "sns.pairplot(df,hue='Channel',height=2)\n",
    "plt.show()"
   ]
  },
  {
   "cell_type": "markdown",
   "metadata": {},
   "source": [
    "Using the pair plot as a references, \n",
    "we can infer the following:\n",
    "- Data is not normally distributed, \n",
    "\n",
    "- In most plots, most data points lie near the origin which shows little correlation between them."
   ]
  },
  {
   "cell_type": "code",
   "execution_count": 73,
   "metadata": {},
   "outputs": [
    {
     "data": {
      "image/png": "[encoded data removed]",
      "text/plain": [
       "<Figure size 434.125x360 with 1 Axes>"
      ]
     },
     "metadata": {},
     "output_type": "display_data"
    }
   ],
   "source": [
    "sns.lmplot(x=\"Grocery\", y=\"Detergents_Paper\", hue=\"Channel\", data=df); "
   ]
  },
  {
   "cell_type": "markdown",
   "metadata": {},
   "source": [
    "- The pair of features with the highest correlation are \"Detergents_Paper\" and \"Grocery\" which intuitively makes sense as many people shop for both when they go grocery shopping."
   ]
  },
  {
   "cell_type": "markdown",
   "metadata": {},
   "source": [
    "**Separate the Features and the Label**"
   ]
  },
  {
   "cell_type": "code",
   "execution_count": 27,
   "metadata": {},
   "outputs": [
    {
     "data": {
      "text/plain": [
       "(440, 6)"
      ]
     },
     "execution_count": 27,
     "metadata": {},
     "output_type": "execute_result"
    }
   ],
   "source": [
    "#df_features=df.loc[:,['Fresh','Milk','Grocery','Frozen','Detergents_Paper','Delicassen']]  \n",
    "#df_features.shape"
   ]
  },
  {
   "cell_type": "code",
   "execution_count": 20,
   "metadata": {},
   "outputs": [
    {
     "data": {
      "text/plain": [
       "(440, 1)"
      ]
     },
     "execution_count": 20,
     "metadata": {},
     "output_type": "execute_result"
    }
   ],
   "source": []
  },
  {
   "cell_type": "markdown",
   "metadata": {},
   "source": [
    "**Split the dataset into training and testing datasets**"
   ]
  },
  {
   "cell_type": "code",
   "execution_count": 21,
   "metadata": {},
   "outputs": [],
   "source": [
    "#from sklearn.model_selection import train_test_split\n",
    "#X_train, X_test, y_train, y_test = train_test_split(df_features,df_label, test_size=0.2)"
   ]
  },
  {
   "cell_type": "code",
   "execution_count": 64,
   "metadata": {},
   "outputs": [],
   "source": [
    "from sklearn import model_selection\n",
    "array = df.values\n",
    "X = array[:,1:8]\n",
    "y = array[:,0]\n",
    "validation_size = 0.20\n",
    "seed = 7\n",
    "X_train, X_validation, y_train, y_validation = model_selection.train_test_split(X, y, test_size=validation_size, random_state=seed)"
   ]
  },
  {
   "cell_type": "code",
   "execution_count": 61,
   "metadata": {},
   "outputs": [
    {
     "data": {
      "text/plain": [
       "array([[12669, 9656, 7561, 214, 2674, 1338],\n",
       "       [7057, 9810, 9568, 1762, 3293, 1776],\n",
       "       [6353, 8808, 7684, 2405, 3516, 7844],\n",
       "       ...,\n",
       "       [14531, 15488, 30243, 437, 14841, 1867],\n",
       "       [10290, 1981, 2232, 1038, 168, 2125],\n",
       "       [2787, 1698, 2510, 65, 477, 52]], dtype=object)"
      ]
     },
     "execution_count": 61,
     "metadata": {},
     "output_type": "execute_result"
    }
   ],
   "source": [
    "X"
   ]
  },
  {
   "cell_type": "code",
   "execution_count": 63,
   "metadata": {},
   "outputs": [
    {
     "data": {
      "text/plain": [
       "'Retail'"
      ]
     },
     "execution_count": 63,
     "metadata": {},
     "output_type": "execute_result"
    }
   ],
   "source": [
    "Y[0]"
   ]
  },
  {
   "cell_type": "markdown",
   "metadata": {},
   "source": [
    "> # Model Building & Evaluation"
   ]
  },
  {
   "cell_type": "markdown",
   "metadata": {},
   "source": [
    "In this section, we will use three different type of classifiers and will choose the best classifier to classify customer types.\n",
    "\n",
    "Those three classifiers are\n",
    "\n",
    "- Gradient Boosting Classifier\n",
    "- Decision Tree Classifier \n",
    "- Random Forest Classifier "
   ]
  },
  {
   "cell_type": "code",
   "execution_count": 54,
   "metadata": {},
   "outputs": [],
   "source": [
    "models = []"
   ]
  },
  {
   "cell_type": "code",
   "execution_count": 55,
   "metadata": {},
   "outputs": [],
   "source": [
    "from sklearn.tree import DecisionTreeClassifier\n",
    "from sklearn.neighbors import KNeighborsClassifier\n",
    "from sklearn import ensemble"
   ]
  },
  {
   "cell_type": "code",
   "execution_count": 74,
   "metadata": {},
   "outputs": [],
   "source": [
    "models.append(('DecisionTreeClassifier', tree.DecisionTreeClassifier()))\n",
    "models.append(('RandomForestClassifier', ensemble.RandomForestClassifier()))\n",
    "models.append(('KNeighborsClassifier', KNeighborsClassifier()))\n",
    "models.append(('GradientBoostingClassifier', ensemble.GradientBoostingClassifier()))"
   ]
  },
  {
   "cell_type": "code",
   "execution_count": 65,
   "metadata": {},
   "outputs": [
    {
     "name": "stdout",
     "output_type": "stream",
     "text": [
      "DecisionTreeClassifier: 0.872302 (0.045980)\n",
      "RandomForestClassifier: 0.908968 (0.043851)\n",
      "KNeighborsClassifier: 0.894683 (0.049647)\n",
      "GradientBoostingClassifier: 0.903492 (0.043999)\n"
     ]
    }
   ],
   "source": [
    "from sklearn import model_selection\n",
    "results = []\n",
    "names = []\n",
    "scoring = 'accuracy'\n",
    "for name, model in models:\n",
    "    kfold = model_selection.KFold(n_splits=10, random_state=(None)) \n",
    "    cv_results = model_selection.cross_val_score(model, X_train, y_train, cv=kfold, scoring=scoring)\n",
    "    results.append(cv_results)\n",
    "    names.append(name)\n",
    "    msg = \"%s: %f (%f)\" % (name, cv_results.mean(), cv_results.std())    \n",
    "    print(msg)"
   ]
  },
  {
   "cell_type": "markdown",
   "metadata": {},
   "source": [
    "### Perform Classification Using Gradient Boosting Classifier"
   ]
  },
  {
   "cell_type": "code",
   "execution_count": 75,
   "metadata": {},
   "outputs": [],
   "source": [
    "from sklearn import ensemble\n",
    "\n",
    "gb_clf = ensemble.GradientBoostingClassifier()"
   ]
  },
  {
   "cell_type": "code",
   "execution_count": 23,
   "metadata": {},
   "outputs": [],
   "source": [
    "# Use GridSerchCV to search the best parameters for Gradient Boosting Classifier\n",
    "from sklearn.model_selection import GridSearchCV"
   ]
  },
  {
   "cell_type": "code",
   "execution_count": 24,
   "metadata": {},
   "outputs": [],
   "source": [
    "#Declare parameters\n",
    "param_grid = {\n",
    "    'n_estimators': [50, 100],\n",
    "    'max_depth': [4, 6],\n",
    "    'min_samples_leaf': [1,3],\n",
    "    'learning_rate': [0.1, 0.05],\n",
    "    'max_features': [1.0, 0.3],\n",
    "    'loss': ['ls', 'huber']\n",
    "}"
   ]
  },
  {
   "cell_type": "code",
   "execution_count": 25,
   "metadata": {},
   "outputs": [],
   "source": [
    "#Define the grid search and run with four cpus in parallel.\n",
    "gs_cv = GridSearchCV(gb_clf, param_grid, n_jobs=8, verbose=100)"
   ]
  },
  {
   "cell_type": "code",
   "execution_count": 26,
   "metadata": {},
   "outputs": [
    {
     "name": "stdout",
     "output_type": "stream",
     "text": [
      "Fitting 5 folds for each of 64 candidates, totalling 320 fits\n",
      "[Parallel(n_jobs=8)]: Using backend LokyBackend with 8 concurrent workers.\n",
      "Pickling array (shape=(6,), dtype=object).\n",
      "Pickling array (shape=(352,), dtype=int64).\n",
      "Pickling array (shape=(6, 352), dtype=int64).\n",
      "Pickling array (shape=(6,), dtype=object).\n",
      "Pickling array (shape=(1,), dtype=object).\n",
      "Pickling array (shape=(352,), dtype=int64).\n",
      "Pickling array (shape=(1, 352), dtype=object).\n",
      "Pickling array (shape=(1,), dtype=object).\n",
      "Pickling array (shape=(281,), dtype=int32).\n",
      "Pickling array (shape=(71,), dtype=int32).\n",
      "Pickling array (shape=(6,), dtype=object).\n",
      "Pickling array (shape=(352,), dtype=int64).\n",
      "Pickling array (shape=(6, 352), dtype=int64).\n",
      "Pickling array (shape=(6,), dtype=object).\n",
      "Pickling array (shape=(1,), dtype=object).\n",
      "Pickling array (shape=(352,), dtype=int64).\n",
      "Pickling array (shape=(1, 352), dtype=object).\n",
      "Pickling array (shape=(1,), dtype=object).\n",
      "Pickling array (shape=(281,), dtype=int32).\n",
      "Pickling array (shape=(71,), dtype=int32).\n",
      "Pickling array (shape=(6,), dtype=object).\n",
      "Pickling array (shape=(352,), dtype=int64).\n",
      "Pickling array (shape=(6, 352), dtype=int64).\n",
      "Pickling array (shape=(6,), dtype=object).\n",
      "Pickling array (shape=(1,), dtype=object).\n",
      "Pickling array (shape=(352,), dtype=int64).\n",
      "Pickling array (shape=(1, 352), dtype=object).\n",
      "Pickling array (shape=(1,), dtype=object).\n",
      "Pickling array (shape=(282,), dtype=int32).\n",
      "Pickling array (shape=(70,), dtype=int32).\n",
      "Pickling array (shape=(6,), dtype=object).\n",
      "Pickling array (shape=(352,), dtype=int64).\n",
      "Pickling array (shape=(6, 352), dtype=int64).\n",
      "Pickling array (shape=(6,), dtype=object).\n",
      "Pickling array (shape=(1,), dtype=object).\n",
      "Pickling array (shape=(352,), dtype=int64).\n",
      "Pickling array (shape=(1, 352), dtype=object).\n",
      "Pickling array (shape=(1,), dtype=object).\n",
      "Pickling array (shape=(282,), dtype=int32).\n",
      "Pickling array (shape=(70,), dtype=int32).\n",
      "Pickling array (shape=(6,), dtype=object).\n",
      "Pickling array (shape=(352,), dtype=int64).\n",
      "Pickling array (shape=(6, 352), dtype=int64).\n",
      "Pickling array (shape=(6,), dtype=object).\n",
      "Pickling array (shape=(1,), dtype=object).\n",
      "Pickling array (shape=(352,), dtype=int64).\n",
      "Pickling array (shape=(1, 352), dtype=object).\n",
      "Pickling array (shape=(1,), dtype=object).\n",
      "Pickling array (shape=(282,), dtype=int32).\n",
      "Pickling array (shape=(70,), dtype=int32).\n",
      "Pickling array (shape=(6,), dtype=object).\n",
      "Pickling array (shape=(352,), dtype=int64).\n",
      "Pickling array (shape=(6, 352), dtype=int64).\n",
      "Pickling array (shape=(6,), dtype=object).\n",
      "Pickling array (shape=(1,), dtype=object).\n",
      "Pickling array (shape=(352,), dtype=int64).\n",
      "Pickling array (shape=(1, 352), dtype=object).\n",
      "Pickling array (shape=(1,), dtype=object).\n",
      "Pickling array (shape=(281,), dtype=int32).\n",
      "Pickling array (shape=(71,), dtype=int32).\n",
      "Pickling array (shape=(6,), dtype=object).\n",
      "Pickling array (shape=(352,), dtype=int64).\n",
      "Pickling array (shape=(6, 352), dtype=int64).\n",
      "Pickling array (shape=(6,), dtype=object).\n",
      "Pickling array (shape=(1,), dtype=object).\n",
      "Pickling array (shape=(352,), dtype=int64).\n",
      "Pickling array (shape=(1, 352), dtype=object).\n",
      "Pickling array (shape=(1,), dtype=object).\n",
      "Pickling array (shape=(281,), dtype=int32).\n",
      "Pickling array (shape=(71,), dtype=int32).\n",
      "Pickling array (shape=(6,), dtype=object).\n",
      "Pickling array (shape=(352,), dtype=int64).\n",
      "Pickling array (shape=(6, 352), dtype=int64).\n",
      "Pickling array (shape=(6,), dtype=object).\n",
      "Pickling array (shape=(1,), dtype=object).\n",
      "Pickling array (shape=(352,), dtype=int64).\n",
      "Pickling array (shape=(1, 352), dtype=object).\n",
      "Pickling array (shape=(1,), dtype=object).\n",
      "Pickling array (shape=(282,), dtype=int32).\n",
      "Pickling array (shape=(70,), dtype=int32).\n",
      "Pickling array (shape=(6,), dtype=object).\n",
      "Pickling array (shape=(352,), dtype=int64).\n",
      "Pickling array (shape=(6, 352), dtype=int64).\n",
      "Pickling array (shape=(6,), dtype=object).\n",
      "Pickling array (shape=(1,), dtype=object).\n",
      "Pickling array (shape=(352,), dtype=int64).\n",
      "Pickling array (shape=(1, 352), dtype=object).\n",
      "Pickling array (shape=(1,), dtype=object).\n",
      "Pickling array (shape=(282,), dtype=int32).\n",
      "Pickling array (shape=(70,), dtype=int32).\n",
      "[Parallel(n_jobs=8)]: Done   1 tasks      | elapsed:    1.7s\n",
      "[Parallel(n_jobs=8)]: Done   2 tasks      | elapsed:    1.7s\n",
      "[Parallel(n_jobs=8)]: Done   3 tasks      | elapsed:    1.8s\n",
      "[Parallel(n_jobs=8)]: Done   4 tasks      | elapsed:    1.8s\n",
      "[Parallel(n_jobs=8)]: Done   5 tasks      | elapsed:    1.8s\n",
      "[Parallel(n_jobs=8)]: Done   6 tasks      | elapsed:    1.8s\n",
      "[Parallel(n_jobs=8)]: Done   7 tasks      | elapsed:    1.8s\n",
      "Pickling array (shape=(6,), dtype=object).\n",
      "Pickling array (shape=(352,), dtype=int64).\n",
      "Pickling array (shape=(6, 352), dtype=int64).\n",
      "Pickling array (shape=(6,), dtype=object).\n",
      "Pickling array (shape=(1,), dtype=object).\n",
      "Pickling array (shape=(352,), dtype=int64).\n",
      "Pickling array (shape=(1, 352), dtype=object).\n",
      "Pickling array (shape=(1,), dtype=object).\n",
      "Pickling array (shape=(282,), dtype=int32).\n",
      "Pickling array (shape=(70,), dtype=int32).\n",
      "Pickling array (shape=(6,), dtype=object).\n",
      "Pickling array (shape=(352,), dtype=int64).\n",
      "Pickling array (shape=(6, 352), dtype=int64).\n",
      "[Parallel(n_jobs=8)]: Done   8 tasks      | elapsed:    1.8s\n",
      "Pickling array (shape=(6,), dtype=object).\n",
      "Pickling array (shape=(1,), dtype=object).\n",
      "Pickling array (shape=(352,), dtype=int64).\n",
      "Pickling array (shape=(1, 352), dtype=object).\n",
      "Pickling array (shape=(1,), dtype=object).\n",
      "Pickling array (shape=(281,), dtype=int32).\n",
      "Pickling array (shape=(71,), dtype=int32).\n",
      "Pickling array (shape=(6,), dtype=object).\n",
      "Pickling array (shape=(352,), dtype=int64).\n",
      "Pickling array (shape=(6, 352), dtype=int64).\n",
      "Pickling array (shape=(6,), dtype=object).\n",
      "Pickling array (shape=(1,), dtype=object).\n",
      "Pickling array (shape=(352,), dtype=int64).\n",
      "Pickling array (shape=(1, 352), dtype=object).\n",
      "Pickling array (shape=(1,), dtype=object).\n",
      "Pickling array (shape=(281,), dtype=int32).\n",
      "Pickling array (shape=(71,), dtype=int32).\n",
      "Pickling array (shape=(6,), dtype=object).\n",
      "Pickling array (shape=(352,), dtype=int64).\n",
      "Pickling array (shape=(6, 352), dtype=int64).\n",
      "Pickling array (shape=(6,), dtype=object).\n",
      "Pickling array (shape=(1,), dtype=object).\n",
      "Pickling array (shape=(352,), dtype=int64).\n",
      "Pickling array (shape=(1, 352), dtype=object).\n",
      "Pickling array (shape=(1,), dtype=object).\n",
      "Pickling array (shape=(282,), dtype=int32).\n",
      "Pickling array (shape=(70,), dtype=int32).\n",
      "Pickling array (shape=(6,), dtype=object).\n",
      "Pickling array (shape=(352,), dtype=int64).\n",
      "Pickling array (shape=(6, 352), dtype=int64).\n",
      "Pickling array (shape=(6,), dtype=object).\n",
      "Pickling array (shape=(1,), dtype=object).\n",
      "Pickling array (shape=(352,), dtype=int64).\n",
      "Pickling array (shape=(1, 352), dtype=object).\n",
      "Pickling array (shape=(1,), dtype=object).\n",
      "Pickling array (shape=(282,), dtype=int32).\n",
      "Pickling array (shape=(70,), dtype=int32).\n",
      "Pickling array (shape=(6,), dtype=object).\n",
      "Pickling array (shape=(352,), dtype=int64).\n",
      "Pickling array (shape=(6, 352), dtype=int64).\n",
      "Pickling array (shape=(6,), dtype=object).\n",
      "Pickling array (shape=(1,), dtype=object).\n",
      "Pickling array (shape=(352,), dtype=int64).\n",
      "Pickling array (shape=(1, 352), dtype=object).\n",
      "Pickling array (shape=(1,), dtype=object).\n",
      "Pickling array (shape=(282,), dtype=int32).\n",
      "Pickling array (shape=(70,), dtype=int32).\n",
      "[Parallel(n_jobs=8)]: Done   9 tasks      | elapsed:    1.8s\n",
      "Pickling array (shape=(6,), dtype=object).\n",
      "Pickling array (shape=(352,), dtype=int64).\n",
      "Pickling array (shape=(6, 352), dtype=int64).\n",
      "Pickling array (shape=(6,), dtype=object).\n",
      "Pickling array (shape=(1,), dtype=object).\n",
      "Pickling array (shape=(352,), dtype=int64).\n",
      "Pickling array (shape=(1, 352), dtype=object).\n",
      "Pickling array (shape=(1,), dtype=object).\n",
      "Pickling array (shape=(281,), dtype=int32).\n",
      "Pickling array (shape=(71,), dtype=int32).\n",
      "Pickling array (shape=(6,), dtype=object).\n",
      "Pickling array (shape=(352,), dtype=int64).\n",
      "Pickling array (shape=(6, 352), dtype=int64).\n",
      "Pickling array (shape=(6,), dtype=object).\n",
      "Pickling array (shape=(1,), dtype=object).\n",
      "Pickling array (shape=(352,), dtype=int64).\n",
      "Pickling array (shape=(1, 352), dtype=object).\n",
      "Pickling array (shape=(1,), dtype=object).\n",
      "Pickling array (shape=(281,), dtype=int32).\n",
      "Pickling array (shape=(71,), dtype=int32).\n",
      "Pickling array (shape=(6,), dtype=object).[Parallel(n_jobs=8)]: Done  10 tasks      | elapsed:    1.8s\n",
      "\n",
      "Pickling array (shape=(352,), dtype=int64).\n",
      "Pickling array (shape=(6, 352), dtype=int64).\n",
      "Pickling array (shape=(6,), dtype=object).\n",
      "Pickling array (shape=(1,), dtype=object).\n",
      "Pickling array (shape=(352,), dtype=int64).\n",
      "Pickling array (shape=(1, 352), dtype=object).\n",
      "Pickling array (shape=(1,), dtype=object).\n",
      "Pickling array (shape=(282,), dtype=int32).\n",
      "Pickling array (shape=(70,), dtype=int32).\n",
      "Pickling array (shape=(6,), dtype=object).\n",
      "Pickling array (shape=(352,), dtype=int64).\n",
      "Pickling array (shape=(6, 352), dtype=int64).\n",
      "Pickling array (shape=(6,), dtype=object).\n",
      "Pickling array (shape=(1,), dtype=object).\n",
      "Pickling array (shape=(352,), dtype=int64).\n",
      "Pickling array (shape=(1, 352), dtype=object).\n",
      "Pickling array (shape=(1,), dtype=object).\n",
      "Pickling array (shape=(282,), dtype=int32).\n",
      "Pickling array (shape=(70,), dtype=int32).\n",
      "Pickling array (shape=(6,), dtype=object).\n",
      "Pickling array (shape=(352,), dtype=int64).\n",
      "Pickling array (shape=(6, 352), dtype=int64).\n",
      "Pickling array (shape=(6,), dtype=object).\n",
      "Pickling array (shape=(1,), dtype=object).\n",
      "Pickling array (shape=(352,), dtype=int64).\n",
      "Pickling array (shape=(1, 352), dtype=object).\n",
      "Pickling array (shape=(1,), dtype=object).\n",
      "Pickling array (shape=(282,), dtype=int32).\n",
      "Pickling array (shape=(70,), dtype=int32).\n",
      "Pickling array (shape=(6,), dtype=object).\n",
      "Pickling array (shape=(352,), dtype=int64).\n",
      "Pickling array (shape=(6, 352), dtype=int64).\n",
      "Pickling array (shape=(6,), dtype=object).\n",
      "Pickling array (shape=(1,), dtype=object).\n",
      "Pickling array (shape=(352,), dtype=int64).\n",
      "Pickling array (shape=(1, 352), dtype=object).\n",
      "Pickling array (shape=(1,), dtype=object).\n",
      "Pickling array (shape=(281,), dtype=int32).\n",
      "Pickling array (shape=(71,), dtype=int32).\n",
      "[Parallel(n_jobs=8)]: Done  11 tasks      | elapsed:    1.9s\n",
      "Pickling array (shape=(6,), dtype=object).\n",
      "Pickling array (shape=(352,), dtype=int64).\n",
      "Pickling array (shape=(6, 352), dtype=int64).\n",
      "Pickling array (shape=(6,), dtype=object).\n",
      "Pickling array (shape=(1,), dtype=object).\n",
      "Pickling array (shape=(352,), dtype=int64).\n",
      "Pickling array (shape=(1, 352), dtype=object).\n",
      "Pickling array (shape=(1,), dtype=object).\n",
      "Pickling array (shape=(281,), dtype=int32).\n",
      "Pickling array (shape=(71,), dtype=int32).\n",
      "Pickling array (shape=(6,), dtype=object).\n",
      "Pickling array (shape=(352,), dtype=int64).\n",
      "Pickling array (shape=(6, 352), dtype=int64).\n",
      "Pickling array (shape=(6,), dtype=object).\n",
      "Pickling array (shape=(1,), dtype=object).\n",
      "Pickling array (shape=(352,), dtype=int64).\n",
      "Pickling array (shape=(1, 352), dtype=object).\n",
      "Pickling array (shape=(1,), dtype=object).[Parallel(n_jobs=8)]: Done  12 tasks      | elapsed:    1.9s\n",
      "\n",
      "Pickling array (shape=(282,), dtype=int32).\n",
      "Pickling array (shape=(70,), dtype=int32).\n",
      "Pickling array (shape=(6,), dtype=object).\n",
      "Pickling array (shape=(352,), dtype=int64).\n",
      "Pickling array (shape=(6, 352), dtype=int64).\n",
      "Pickling array (shape=(6,), dtype=object).\n",
      "Pickling array (shape=(1,), dtype=object).\n",
      "Pickling array (shape=(352,), dtype=int64).\n",
      "Pickling array (shape=(1, 352), dtype=object).\n",
      "Pickling array (shape=(1,), dtype=object).\n",
      "Pickling array (shape=(282,), dtype=int32).\n",
      "Pickling array (shape=(70,), dtype=int32).\n",
      "Pickling array (shape=(6,), dtype=object).\n",
      "Pickling array (shape=(352,), dtype=int64).\n",
      "Pickling array (shape=(6, 352), dtype=int64).\n",
      "Pickling array (shape=(6,), dtype=object).\n",
      "Pickling array (shape=(1,), dtype=object).\n",
      "Pickling array (shape=(352,), dtype=int64).\n",
      "Pickling array (shape=(1, 352), dtype=object).\n",
      "Pickling array (shape=(1,), dtype=object).\n",
      "Pickling array (shape=(282,), dtype=int32).\n",
      "Pickling array (shape=(70,), dtype=int32).\n",
      "Pickling array (shape=(6,), dtype=object).\n",
      "Pickling array (shape=(352,), dtype=int64).\n",
      "Pickling array (shape=(6, 352), dtype=int64).\n",
      "Pickling array (shape=(6,), dtype=object).\n",
      "Pickling array (shape=(1,), dtype=object).\n",
      "Pickling array (shape=(352,), dtype=int64).\n",
      "Pickling array (shape=(1, 352), dtype=object).\n",
      "Pickling array (shape=(1,), dtype=object).\n",
      "Pickling array (shape=(281,), dtype=int32).\n",
      "Pickling array (shape=(71,), dtype=int32).\n",
      "Pickling array (shape=(6,), dtype=object).\n",
      "Pickling array (shape=(352,), dtype=int64).\n",
      "Pickling array (shape=(6, 352), dtype=int64).\n",
      "Pickling array (shape=(6,), dtype=object).\n",
      "Pickling array (shape=(1,), dtype=object).\n",
      "Pickling array (shape=(352,), dtype=int64).\n",
      "Pickling array (shape=(1, 352), dtype=object).\n",
      "Pickling array (shape=(1,), dtype=object).\n",
      "Pickling array (shape=(281,), dtype=int32).\n",
      "Pickling array (shape=(71,), dtype=int32).\n",
      "[Parallel(n_jobs=8)]: Done  13 tasks      | elapsed:    1.9s\n",
      "Pickling array (shape=(6,), dtype=object).\n",
      "Pickling array (shape=(352,), dtype=int64).\n",
      "Pickling array (shape=(6, 352), dtype=int64).\n",
      "Pickling array (shape=(6,), dtype=object).\n",
      "Pickling array (shape=(1,), dtype=object).\n",
      "Pickling array (shape=(352,), dtype=int64).\n",
      "Pickling array (shape=(1, 352), dtype=object).\n",
      "Pickling array (shape=(1,), dtype=object).\n",
      "Pickling array (shape=(282,), dtype=int32).\n",
      "Pickling array (shape=(70,), dtype=int32).\n",
      "Pickling array (shape=(6,), dtype=object).\n",
      "Pickling array (shape=(352,), dtype=int64).\n",
      "Pickling array (shape=(6, 352), dtype=int64).\n",
      "Pickling array (shape=(6,), dtype=object).\n",
      "Pickling array (shape=(1,), dtype=object).\n",
      "Pickling array (shape=(352,), dtype=int64).\n",
      "Pickling array (shape=(1, 352), dtype=object).\n",
      "Pickling array (shape=(1,), dtype=object).\n",
      "Pickling array (shape=(282,), dtype=int32).\n",
      "Pickling array (shape=(70,), dtype=int32).\n",
      "[Parallel(n_jobs=8)]: Done  14 tasks      | elapsed:    1.9s\n",
      "Pickling array (shape=(6,), dtype=object).\n",
      "Pickling array (shape=(352,), dtype=int64).\n",
      "Pickling array (shape=(6, 352), dtype=int64).\n",
      "Pickling array (shape=(6,), dtype=object).\n",
      "Pickling array (shape=(1,), dtype=object).\n",
      "Pickling array (shape=(352,), dtype=int64).\n",
      "Pickling array (shape=(1, 352), dtype=object).\n",
      "Pickling array (shape=(1,), dtype=object).\n",
      "Pickling array (shape=(282,), dtype=int32).\n",
      "Pickling array (shape=(70,), dtype=int32).\n",
      "[Parallel(n_jobs=8)]: Done  15 tasks      | elapsed:    1.9s\n",
      "Pickling array (shape=(6,), dtype=object).\n",
      "Pickling array (shape=(352,), dtype=int64).\n",
      "Pickling array (shape=(6, 352), dtype=int64).\n",
      "Pickling array (shape=(6,), dtype=object).\n",
      "Pickling array (shape=(1,), dtype=object).\n",
      "Pickling array (shape=(352,), dtype=int64).\n",
      "Pickling array (shape=(1, 352), dtype=object).\n",
      "Pickling array (shape=(1,), dtype=object).\n",
      "Pickling array (shape=(281,), dtype=int32).\n",
      "Pickling array (shape=(71,), dtype=int32).\n",
      "[Parallel(n_jobs=8)]: Done  16 tasks      | elapsed:    1.9s\n"
     ]
    },
    {
     "name": "stdout",
     "output_type": "stream",
     "text": [
      "Pickling array (shape=(6,), dtype=object).\n",
      "Pickling array (shape=(352,), dtype=int64).\n",
      "Pickling array (shape=(6, 352), dtype=int64).\n",
      "Pickling array (shape=(6,), dtype=object).\n",
      "Pickling array (shape=(1,), dtype=object).\n",
      "Pickling array (shape=(352,), dtype=int64).\n",
      "Pickling array (shape=(1, 352), dtype=object).\n",
      "Pickling array (shape=(1,), dtype=object).\n",
      "Pickling array (shape=(281,), dtype=int32).\n",
      "Pickling array (shape=(71,), dtype=int32).\n",
      "[Parallel(n_jobs=8)]: Done  17 tasks      | elapsed:    1.9s\n",
      "Pickling array (shape=(6,), dtype=object).\n",
      "Pickling array (shape=(352,), dtype=int64).\n",
      "Pickling array (shape=(6, 352), dtype=int64).\n",
      "Pickling array (shape=(6,), dtype=object).\n",
      "Pickling array (shape=(1,), dtype=object).\n",
      "Pickling array (shape=(352,), dtype=int64).\n",
      "Pickling array (shape=(1, 352), dtype=object).\n",
      "Pickling array (shape=(1,), dtype=object).\n",
      "Pickling array (shape=(282,), dtype=int32).\n",
      "Pickling array (shape=(70,), dtype=int32).\n",
      "[Parallel(n_jobs=8)]: Done  18 tasks      | elapsed:    1.9s\n",
      "Pickling array (shape=(6,), dtype=object).\n",
      "Pickling array (shape=(352,), dtype=int64).\n",
      "Pickling array (shape=(6, 352), dtype=int64).\n",
      "Pickling array (shape=(6,), dtype=object).\n",
      "Pickling array (shape=(1,), dtype=object).\n",
      "Pickling array (shape=(352,), dtype=int64).\n",
      "Pickling array (shape=(1, 352), dtype=object).\n",
      "Pickling array (shape=(1,), dtype=object).\n",
      "Pickling array (shape=(282,), dtype=int32).\n",
      "Pickling array (shape=(70,), dtype=int32).\n",
      "[Parallel(n_jobs=8)]: Done  19 tasks      | elapsed:    2.0s\n",
      "Pickling array (shape=(6,), dtype=object).\n",
      "Pickling array (shape=(352,), dtype=int64).\n",
      "Pickling array (shape=(6, 352), dtype=int64).\n",
      "Pickling array (shape=(6,), dtype=object).\n",
      "Pickling array (shape=(1,), dtype=object).\n",
      "Pickling array (shape=(352,), dtype=int64).\n",
      "Pickling array (shape=(1, 352), dtype=object).\n",
      "Pickling array (shape=(1,), dtype=object).\n",
      "Pickling array (shape=(282,), dtype=int32).\n",
      "Pickling array (shape=(70,), dtype=int32).\n",
      "[Parallel(n_jobs=8)]: Done  20 tasks      | elapsed:    2.0s\n",
      "Pickling array (shape=(6,), dtype=object).\n",
      "Pickling array (shape=(352,), dtype=int64).\n",
      "Pickling array (shape=(6, 352), dtype=int64).\n",
      "Pickling array (shape=(6,), dtype=object).\n",
      "Pickling array (shape=(1,), dtype=object).\n",
      "Pickling array (shape=(352,), dtype=int64).\n",
      "Pickling array (shape=(1, 352), dtype=object).\n",
      "Pickling array (shape=(1,), dtype=object).\n",
      "Pickling array (shape=(281,), dtype=int32).\n",
      "Pickling array (shape=(71,), dtype=int32).\n",
      "[Parallel(n_jobs=8)]: Done  21 tasks      | elapsed:    2.0s\n",
      "Pickling array (shape=(6,), dtype=object).\n",
      "Pickling array (shape=(352,), dtype=int64).\n",
      "Pickling array (shape=(6, 352), dtype=int64).\n",
      "Pickling array (shape=(6,), dtype=object).\n",
      "Pickling array (shape=(1,), dtype=object).\n",
      "Pickling array (shape=(352,), dtype=int64).\n",
      "Pickling array (shape=(1, 352), dtype=object).\n",
      "Pickling array (shape=(1,), dtype=object).\n",
      "Pickling array (shape=(281,), dtype=int32).\n",
      "Pickling array (shape=(71,), dtype=int32).\n",
      "[Parallel(n_jobs=8)]: Done  22 tasks      | elapsed:    2.0s\n",
      "Pickling array (shape=(6,), dtype=object).\n",
      "Pickling array (shape=(352,), dtype=int64).\n",
      "Pickling array (shape=(6, 352), dtype=int64).\n",
      "Pickling array (shape=(6,), dtype=object).\n",
      "Pickling array (shape=(1,), dtype=object).\n",
      "Pickling array (shape=(352,), dtype=int64).\n",
      "Pickling array (shape=(1, 352), dtype=object).\n",
      "Pickling array (shape=(1,), dtype=object).\n",
      "Pickling array (shape=(282,), dtype=int32).\n",
      "Pickling array (shape=(70,), dtype=int32).\n",
      "[Parallel(n_jobs=8)]: Done  23 tasks      | elapsed:    2.0s\n",
      "Pickling array (shape=(6,), dtype=object).\n",
      "Pickling array (shape=(352,), dtype=int64).\n",
      "Pickling array (shape=(6, 352), dtype=int64).\n",
      "Pickling array (shape=(6,), dtype=object).\n",
      "Pickling array (shape=(1,), dtype=object).\n",
      "Pickling array (shape=(352,), dtype=int64).\n",
      "Pickling array (shape=(1, 352), dtype=object).\n",
      "Pickling array (shape=(1,), dtype=object).\n",
      "Pickling array (shape=(282,), dtype=int32).\n",
      "Pickling array (shape=(70,), dtype=int32).\n",
      "[Parallel(n_jobs=8)]: Done  24 tasks      | elapsed:    2.0s\n",
      "Pickling array (shape=(6,), dtype=object).\n",
      "Pickling array (shape=(352,), dtype=int64).\n",
      "Pickling array (shape=(6, 352), dtype=int64).\n",
      "Pickling array (shape=(6,), dtype=object).\n",
      "Pickling array (shape=(1,), dtype=object).\n",
      "Pickling array (shape=(352,), dtype=int64).\n",
      "Pickling array (shape=(1, 352), dtype=object).\n",
      "Pickling array (shape=(1,), dtype=object).\n",
      "Pickling array (shape=(282,), dtype=int32).\n",
      "Pickling array (shape=(70,), dtype=int32).\n",
      "[Parallel(n_jobs=8)]: Done  25 tasks      | elapsed:    2.0s\n",
      "Pickling array (shape=(6,), dtype=object).\n",
      "Pickling array (shape=(352,), dtype=int64).\n",
      "Pickling array (shape=(6, 352), dtype=int64).\n",
      "Pickling array (shape=(6,), dtype=object).\n",
      "Pickling array (shape=(1,), dtype=object).\n",
      "Pickling array (shape=(352,), dtype=int64).\n",
      "Pickling array (shape=(1, 352), dtype=object).\n",
      "Pickling array (shape=(1,), dtype=object).\n",
      "Pickling array (shape=(281,), dtype=int32).\n",
      "Pickling array (shape=(71,), dtype=int32).\n",
      "[Parallel(n_jobs=8)]: Done  26 tasks      | elapsed:    2.0s\n",
      "Pickling array (shape=(6,), dtype=object).\n",
      "Pickling array (shape=(352,), dtype=int64).\n",
      "Pickling array (shape=(6, 352), dtype=int64).\n",
      "Pickling array (shape=(6,), dtype=object).\n",
      "Pickling array (shape=(1,), dtype=object).\n",
      "Pickling array (shape=(352,), dtype=int64).\n",
      "Pickling array (shape=(1, 352), dtype=object).\n",
      "Pickling array (shape=(1,), dtype=object).\n",
      "Pickling array (shape=(281,), dtype=int32).\n",
      "Pickling array (shape=(71,), dtype=int32).\n",
      "[Parallel(n_jobs=8)]: Done  27 tasks      | elapsed:    2.0s\n",
      "Pickling array (shape=(6,), dtype=object).\n",
      "Pickling array (shape=(352,), dtype=int64).\n",
      "[Parallel(n_jobs=8)]: Done  28 tasks      | elapsed:    2.0s\n",
      "Pickling array (shape=(6, 352), dtype=int64).\n",
      "Pickling array (shape=(6,), dtype=object).\n",
      "Pickling array (shape=(1,), dtype=object).\n",
      "Pickling array (shape=(352,), dtype=int64).\n",
      "Pickling array (shape=(1, 352), dtype=object).\n",
      "Pickling array (shape=(1,), dtype=object).\n",
      "Pickling array (shape=(282,), dtype=int32).\n",
      "Pickling array (shape=(70,), dtype=int32).\n",
      "[Parallel(n_jobs=8)]: Done  29 tasks      | elapsed:    2.0s\n",
      "Pickling array (shape=(6,), dtype=object).\n",
      "Pickling array (shape=(352,), dtype=int64).\n",
      "Pickling array (shape=(6, 352), dtype=int64).\n",
      "Pickling array (shape=(6,), dtype=object).\n",
      "Pickling array (shape=(1,), dtype=object).\n",
      "Pickling array (shape=(352,), dtype=int64).\n",
      "Pickling array (shape=(1, 352), dtype=object).\n",
      "Pickling array (shape=(1,), dtype=object).\n",
      "Pickling array (shape=(282,), dtype=int32).\n",
      "Pickling array (shape=(70,), dtype=int32).\n",
      "Pickling array (shape=(6,), dtype=object).\n",
      "Pickling array (shape=(352,), dtype=int64).\n",
      "Pickling array (shape=(6, 352), dtype=int64).\n",
      "Pickling array (shape=(6,), dtype=object).\n",
      "Pickling array (shape=(1,), dtype=object).\n",
      "Pickling array (shape=(352,), dtype=int64).\n",
      "Pickling array (shape=(1, 352), dtype=object).\n",
      "Pickling array (shape=(1,), dtype=object).\n",
      "Pickling array (shape=(282,), dtype=int32).\n",
      "Pickling array (shape=(70,), dtype=int32).\n",
      "[Parallel(n_jobs=8)]: Done  30 tasks      | elapsed:    2.1s\n",
      "Pickling array (shape=(6,), dtype=object).\n",
      "Pickling array (shape=(352,), dtype=int64).\n",
      "Pickling array (shape=(6, 352), dtype=int64).\n",
      "Pickling array (shape=(6,), dtype=object).\n",
      "Pickling array (shape=(1,), dtype=object).\n",
      "Pickling array (shape=(352,), dtype=int64).\n",
      "Pickling array (shape=(1, 352), dtype=object).\n",
      "Pickling array (shape=(1,), dtype=object).\n",
      "Pickling array (shape=(281,), dtype=int32).\n",
      "Pickling array (shape=(71,), dtype=int32).\n",
      "[Parallel(n_jobs=8)]: Done  31 tasks      | elapsed:    2.1s\n",
      "Pickling array (shape=(6,), dtype=object).\n",
      "Pickling array (shape=(352,), dtype=int64).\n",
      "Pickling array (shape=(6, 352), dtype=int64).\n",
      "Pickling array (shape=(6,), dtype=object).\n",
      "Pickling array (shape=(1,), dtype=object).\n",
      "Pickling array (shape=(352,), dtype=int64).\n",
      "Pickling array (shape=(1, 352), dtype=object).\n",
      "Pickling array (shape=(1,), dtype=object).\n",
      "Pickling array (shape=(281,), dtype=int32).\n",
      "Pickling array (shape=(71,), dtype=int32).\n",
      "[Parallel(n_jobs=8)]: Done  32 tasks      | elapsed:    2.1s\n",
      "Pickling array (shape=(6,), dtype=object).\n",
      "Pickling array (shape=(352,), dtype=int64).\n",
      "Pickling array (shape=(6, 352), dtype=int64).\n",
      "Pickling array (shape=(6,), dtype=object).\n",
      "Pickling array (shape=(1,), dtype=object).\n",
      "Pickling array (shape=(352,), dtype=int64).\n",
      "Pickling array (shape=(1, 352), dtype=object).\n",
      "Pickling array (shape=(1,), dtype=object).\n",
      "Pickling array (shape=(282,), dtype=int32).\n",
      "Pickling array (shape=(70,), dtype=int32).\n",
      "[Parallel(n_jobs=8)]: Done  33 tasks      | elapsed:    2.1s\n",
      "[Parallel(n_jobs=8)]: Batch computation too fast (0.1985s.) Setting batch_size=2.\n",
      "Pickling array (shape=(6,), dtype=object).\n",
      "Pickling array (shape=(352,), dtype=int64).\n",
      "Pickling array (shape=(6, 352), dtype=int64).\n",
      "Pickling array (shape=(6,), dtype=object).\n",
      "Pickling array (shape=(1,), dtype=object).\n",
      "Pickling array (shape=(352,), dtype=int64).\n",
      "Pickling array (shape=(1, 352), dtype=object).\n",
      "[Parallel(n_jobs=8)]: Done  34 tasks      | elapsed:    2.1s\n",
      "Pickling array (shape=(1,), dtype=object).\n",
      "Pickling array (shape=(282,), dtype=int32).\n",
      "Pickling array (shape=(70,), dtype=int32).\n",
      "Pickling array (shape=(282,), dtype=int32).\n",
      "Pickling array (shape=(70,), dtype=int32).\n",
      "Pickling array (shape=(6,), dtype=object).[Parallel(n_jobs=8)]: Done  35 tasks      | elapsed:    2.1s\n",
      "\n",
      "Pickling array (shape=(352,), dtype=int64).\n",
      "Pickling array (shape=(6, 352), dtype=int64).\n",
      "Pickling array (shape=(6,), dtype=object).\n",
      "Pickling array (shape=(1,), dtype=object).\n",
      "Pickling array (shape=(352,), dtype=int64).\n",
      "Pickling array (shape=(1, 352), dtype=object).\n",
      "Pickling array (shape=(1,), dtype=object).\n",
      "Pickling array (shape=(281,), dtype=int32).\n",
      "Pickling array (shape=(71,), dtype=int32).\n",
      "Pickling array (shape=(281,), dtype=int32).\n",
      "Pickling array (shape=(71,), dtype=int32).\n",
      "[Parallel(n_jobs=8)]: Done  36 tasks      | elapsed:    2.1s\n",
      "Pickling array (shape=(6,), dtype=object).\n",
      "Pickling array (shape=(352,), dtype=int64).\n",
      "Pickling array (shape=(6, 352), dtype=int64).\n",
      "Pickling array (shape=(6,), dtype=object).\n",
      "Pickling array (shape=(1,), dtype=object).\n",
      "Pickling array (shape=(352,), dtype=int64).\n",
      "Pickling array (shape=(1, 352), dtype=object).\n",
      "Pickling array (shape=(1,), dtype=object).\n",
      "Pickling array (shape=(282,), dtype=int32).\n",
      "Pickling array (shape=(70,), dtype=int32).\n",
      "Pickling array (shape=(282,), dtype=int32).\n",
      "Pickling array (shape=(70,), dtype=int32).\n",
      "Pickling array (shape=(6,), dtype=object).\n",
      "Pickling array (shape=(352,), dtype=int64).\n",
      "Pickling array (shape=(6, 352), dtype=int64).\n",
      "Pickling array (shape=(6,), dtype=object).\n"
     ]
    },
    {
     "name": "stdout",
     "output_type": "stream",
     "text": [
      "Pickling array (shape=(1,), dtype=object).\n",
      "Pickling array (shape=(352,), dtype=int64).\n",
      "Pickling array (shape=(1, 352), dtype=object).\n",
      "Pickling array (shape=(1,), dtype=object).\n",
      "Pickling array (shape=(282,), dtype=int32).\n",
      "Pickling array (shape=(70,), dtype=int32).[Parallel(n_jobs=8)]: Done  37 tasks      | elapsed:    2.1s\n",
      "\n",
      "Pickling array (shape=(281,), dtype=int32).\n",
      "Pickling array (shape=(71,), dtype=int32).\n",
      "Pickling array (shape=(6,), dtype=object).\n",
      "Pickling array (shape=(352,), dtype=int64).\n",
      "Pickling array (shape=(6, 352), dtype=int64).\n",
      "Pickling array (shape=(6,), dtype=object).\n",
      "Pickling array (shape=(1,), dtype=object).\n",
      "Pickling array (shape=(352,), dtype=int64).\n",
      "Pickling array (shape=(1, 352), dtype=object).\n",
      "Pickling array (shape=(1,), dtype=object).\n",
      "Pickling array (shape=(281,), dtype=int32).\n",
      "Pickling array (shape=(71,), dtype=int32).\n",
      "Pickling array (shape=(282,), dtype=int32).\n",
      "Pickling array (shape=(70,), dtype=int32).\n",
      "[Parallel(n_jobs=8)]: Done  38 tasks      | elapsed:    2.1s\n",
      "Pickling array (shape=(6,), dtype=object).\n",
      "Pickling array (shape=(352,), dtype=int64).\n",
      "Pickling array (shape=(6, 352), dtype=int64).\n",
      "Pickling array (shape=(6,), dtype=object).\n",
      "Pickling array (shape=(1,), dtype=object).\n",
      "Pickling array (shape=(352,), dtype=int64).\n",
      "Pickling array (shape=(1, 352), dtype=object).\n",
      "Pickling array (shape=(1,), dtype=object).\n",
      "Pickling array (shape=(282,), dtype=int32).\n",
      "Pickling array (shape=(70,), dtype=int32).\n",
      "Pickling array (shape=(282,), dtype=int32).\n",
      "Pickling array (shape=(70,), dtype=int32).\n",
      "[Parallel(n_jobs=8)]: Done  39 tasks      | elapsed:    2.1s\n",
      "Pickling array (shape=(6,), dtype=object).\n",
      "Pickling array (shape=(352,), dtype=int64).\n",
      "Pickling array (shape=(6, 352), dtype=int64).\n",
      "Pickling array (shape=(6,), dtype=object).\n",
      "Pickling array (shape=(1,), dtype=object).\n",
      "Pickling array (shape=(352,), dtype=int64).\n",
      "Pickling array (shape=(1, 352), dtype=object).\n",
      "Pickling array (shape=(1,), dtype=object).\n",
      "Pickling array (shape=(281,), dtype=int32).\n",
      "Pickling array (shape=(71,), dtype=int32).\n",
      "Pickling array (shape=(281,), dtype=int32).\n",
      "Pickling array (shape=(71,), dtype=int32).\n",
      "[Parallel(n_jobs=8)]: Done  40 tasks      | elapsed:    2.2s\n",
      "Pickling array (shape=(6,), dtype=object).\n",
      "Pickling array (shape=(352,), dtype=int64).\n",
      "Pickling array (shape=(6, 352), dtype=int64).\n",
      "Pickling array (shape=(6,), dtype=object).\n",
      "Pickling array (shape=(1,), dtype=object).\n",
      "Pickling array (shape=(352,), dtype=int64).\n",
      "Pickling array (shape=(1, 352), dtype=object).\n",
      "Pickling array (shape=(1,), dtype=object).\n",
      "Pickling array (shape=(282,), dtype=int32).\n",
      "Pickling array (shape=(70,), dtype=int32).\n",
      "Pickling array (shape=(282,), dtype=int32).\n",
      "Pickling array (shape=(70,), dtype=int32).\n",
      "[Parallel(n_jobs=8)]: Done  41 tasks      | elapsed:    2.2s\n",
      "Pickling array (shape=(6,), dtype=object).\n",
      "Pickling array (shape=(352,), dtype=int64).\n",
      "Pickling array (shape=(6, 352), dtype=int64).\n",
      "Pickling array (shape=(6,), dtype=object).\n",
      "Pickling array (shape=(1,), dtype=object).\n",
      "Pickling array (shape=(352,), dtype=int64).\n",
      "Pickling array (shape=(1, 352), dtype=object).\n",
      "Pickling array (shape=(1,), dtype=object).\n",
      "Pickling array (shape=(282,), dtype=int32).\n",
      "Pickling array (shape=(70,), dtype=int32).\n",
      "Pickling array (shape=(281,), dtype=int32).[Parallel(n_jobs=8)]: Done  42 tasks      | elapsed:    2.2s\n",
      "\n",
      "Pickling array (shape=(71,), dtype=int32).\n",
      "Pickling array (shape=(6,), dtype=object).\n",
      "Pickling array (shape=(352,), dtype=int64).\n",
      "Pickling array (shape=(6, 352), dtype=int64).\n",
      "Pickling array (shape=(6,), dtype=object).\n",
      "Pickling array (shape=(1,), dtype=object).\n",
      "Pickling array (shape=(352,), dtype=int64).\n",
      "Pickling array (shape=(1, 352), dtype=object).\n",
      "Pickling array (shape=(1,), dtype=object).\n",
      "Pickling array (shape=(281,), dtype=int32).\n",
      "Pickling array (shape=(71,), dtype=int32).\n",
      "Pickling array (shape=(282,), dtype=int32).\n",
      "Pickling array (shape=(70,), dtype=int32).\n",
      "[Parallel(n_jobs=8)]: Done  43 tasks      | elapsed:    2.2s\n",
      "Pickling array (shape=(6,), dtype=object).\n",
      "Pickling array (shape=(352,), dtype=int64).\n",
      "Pickling array (shape=(6, 352), dtype=int64).\n",
      "Pickling array (shape=(6,), dtype=object).\n",
      "Pickling array (shape=(1,), dtype=object).\n",
      "Pickling array (shape=(352,), dtype=int64).\n",
      "Pickling array (shape=(1, 352), dtype=object).\n",
      "Pickling array (shape=(1,), dtype=object).\n",
      "Pickling array (shape=(282,), dtype=int32).\n",
      "Pickling array (shape=(70,), dtype=int32).\n",
      "Pickling array (shape=(282,), dtype=int32).\n",
      "Pickling array (shape=(70,), dtype=int32).\n",
      "[Parallel(n_jobs=8)]: Done  44 tasks      | elapsed:    2.2s\n",
      "Pickling array (shape=(6,), dtype=object).\n",
      "Pickling array (shape=(352,), dtype=int64).\n",
      "Pickling array (shape=(6, 352), dtype=int64).\n",
      "Pickling array (shape=(6,), dtype=object).\n",
      "Pickling array (shape=(1,), dtype=object).\n",
      "Pickling array (shape=(352,), dtype=int64).\n",
      "Pickling array (shape=(1, 352), dtype=object).\n",
      "Pickling array (shape=(1,), dtype=object).\n",
      "Pickling array (shape=(281,), dtype=int32).\n",
      "Pickling array (shape=(71,), dtype=int32).\n",
      "Pickling array (shape=(281,), dtype=int32).\n",
      "Pickling array (shape=(71,), dtype=int32).\n",
      "[Parallel(n_jobs=8)]: Done  45 tasks      | elapsed:    2.2s\n",
      "Pickling array (shape=(6,), dtype=object).\n",
      "Pickling array (shape=(352,), dtype=int64).\n",
      "Pickling array (shape=(6, 352), dtype=int64).\n",
      "Pickling array (shape=(6,), dtype=object).\n",
      "Pickling array (shape=(1,), dtype=object).\n",
      "Pickling array (shape=(352,), dtype=int64).\n",
      "Pickling array (shape=(1, 352), dtype=object).\n",
      "Pickling array (shape=(1,), dtype=object).\n",
      "Pickling array (shape=(282,), dtype=int32).\n",
      "Pickling array (shape=(70,), dtype=int32).\n",
      "Pickling array (shape=(282,), dtype=int32).\n",
      "Pickling array (shape=(70,), dtype=int32).\n",
      "[Parallel(n_jobs=8)]: Done  46 tasks      | elapsed:    2.2s\n",
      "Pickling array (shape=(6,), dtype=object).\n",
      "Pickling array (shape=(352,), dtype=int64).\n",
      "Pickling array (shape=(6, 352), dtype=int64).[Parallel(n_jobs=8)]: Done  47 tasks      | elapsed:    2.2s\n",
      "\n",
      "Pickling array (shape=(6,), dtype=object).\n",
      "Pickling array (shape=(1,), dtype=object).\n",
      "Pickling array (shape=(352,), dtype=int64).\n",
      "Pickling array (shape=(1, 352), dtype=object).\n",
      "Pickling array (shape=(1,), dtype=object).\n",
      "Pickling array (shape=(282,), dtype=int32).\n",
      "Pickling array (shape=(70,), dtype=int32).\n",
      "Pickling array (shape=(281,), dtype=int32).\n",
      "Pickling array (shape=(71,), dtype=int32).\n",
      "Pickling array (shape=(6,), dtype=object).\n",
      "Pickling array (shape=(352,), dtype=int64).\n",
      "Pickling array (shape=(6, 352), dtype=int64).\n",
      "Pickling array (shape=(6,), dtype=object).\n",
      "Pickling array (shape=(1,), dtype=object).\n",
      "Pickling array (shape=(352,), dtype=int64).\n",
      "Pickling array (shape=(1, 352), dtype=object).\n",
      "Pickling array (shape=(1,), dtype=object).\n",
      "Pickling array (shape=(281,), dtype=int32).\n",
      "Pickling array (shape=(71,), dtype=int32).\n",
      "Pickling array (shape=(282,), dtype=int32).\n",
      "Pickling array (shape=(70,), dtype=int32).\n",
      "[Parallel(n_jobs=8)]: Done  48 tasks      | elapsed:    2.2s\n",
      "Pickling array (shape=(6,), dtype=object).\n",
      "Pickling array (shape=(352,), dtype=int64).\n",
      "Pickling array (shape=(6, 352), dtype=int64).\n",
      "Pickling array (shape=(6,), dtype=object).\n",
      "Pickling array (shape=(1,), dtype=object).\n",
      "Pickling array (shape=(352,), dtype=int64).\n",
      "Pickling array (shape=(1, 352), dtype=object).\n",
      "Pickling array (shape=(1,), dtype=object).\n",
      "Pickling array (shape=(282,), dtype=int32).\n",
      "Pickling array (shape=(70,), dtype=int32).\n",
      "Pickling array (shape=(282,), dtype=int32).\n",
      "Pickling array (shape=(70,), dtype=int32).\n",
      "[Parallel(n_jobs=8)]: Done  50 tasks      | elapsed:    2.2s\n",
      "[Parallel(n_jobs=8)]: Batch computation too fast (0.1604s.) Setting batch_size=4.\n",
      "Pickling array (shape=(6,), dtype=object).\n",
      "Pickling array (shape=(352,), dtype=int64).\n",
      "Pickling array (shape=(6, 352), dtype=int64).\n",
      "Pickling array (shape=(6,), dtype=object).\n",
      "Pickling array (shape=(1,), dtype=object).\n",
      "Pickling array (shape=(352,), dtype=int64).\n",
      "Pickling array (shape=(1, 352), dtype=object).\n",
      "Pickling array (shape=(1,), dtype=object).\n",
      "Pickling array (shape=(281,), dtype=int32).\n",
      "Pickling array (shape=(71,), dtype=int32).\n",
      "Pickling array (shape=(281,), dtype=int32).\n",
      "Pickling array (shape=(71,), dtype=int32).\n",
      "Pickling array (shape=(282,), dtype=int32).\n",
      "Pickling array (shape=(70,), dtype=int32).\n",
      "Pickling array (shape=(282,), dtype=int32).\n",
      "Pickling array (shape=(70,), dtype=int32).\n",
      "[Parallel(n_jobs=8)]: Done  52 tasks      | elapsed:    2.3s\n",
      "Pickling array (shape=(6,), dtype=object).\n",
      "Pickling array (shape=(352,), dtype=int64).\n",
      "Pickling array (shape=(6, 352), dtype=int64).\n",
      "Pickling array (shape=(6,), dtype=object).\n",
      "Pickling array (shape=(1,), dtype=object).\n",
      "Pickling array (shape=(352,), dtype=int64).\n",
      "Pickling array (shape=(1, 352), dtype=object).\n",
      "Pickling array (shape=(1,), dtype=object).\n",
      "Pickling array (shape=(282,), dtype=int32).\n",
      "Pickling array (shape=(70,), dtype=int32).\n",
      "Pickling array (shape=(281,), dtype=int32).\n",
      "Pickling array (shape=(71,), dtype=int32).\n",
      "Pickling array (shape=(281,), dtype=int32).\n",
      "Pickling array (shape=(71,), dtype=int32).\n",
      "Pickling array (shape=(282,), dtype=int32).\n",
      "Pickling array (shape=(70,), dtype=int32).\n",
      "[Parallel(n_jobs=8)]: Done  54 tasks      | elapsed:    2.3s\n",
      "Pickling array (shape=(6,), dtype=object).\n",
      "Pickling array (shape=(352,), dtype=int64).\n",
      "Pickling array (shape=(6, 352), dtype=int64).\n",
      "Pickling array (shape=(6,), dtype=object).\n",
      "Pickling array (shape=(1,), dtype=object).\n",
      "Pickling array (shape=(352,), dtype=int64).\n",
      "Pickling array (shape=(1, 352), dtype=object).\n",
      "Pickling array (shape=(1,), dtype=object).\n",
      "Pickling array (shape=(282,), dtype=int32).\n",
      "Pickling array (shape=(70,), dtype=int32).\n",
      "Pickling array (shape=(282,), dtype=int32).\n",
      "Pickling array (shape=(70,), dtype=int32).\n",
      "Pickling array (shape=(281,), dtype=int32).\n",
      "Pickling array (shape=(71,), dtype=int32).\n",
      "Pickling array (shape=(281,), dtype=int32).\n",
      "Pickling array (shape=(71,), dtype=int32).\n",
      "[Parallel(n_jobs=8)]: Done  56 tasks      | elapsed:    2.3s\n",
      "Pickling array (shape=(6,), dtype=object).\n",
      "Pickling array (shape=(352,), dtype=int64).\n",
      "Pickling array (shape=(6, 352), dtype=int64).\n",
      "Pickling array (shape=(6,), dtype=object).\n",
      "Pickling array (shape=(1,), dtype=object).\n",
      "Pickling array (shape=(352,), dtype=int64).\n",
      "Pickling array (shape=(1, 352), dtype=object).\n",
      "Pickling array (shape=(1,), dtype=object).\n",
      "Pickling array (shape=(282,), dtype=int32).\n",
      "Pickling array (shape=(70,), dtype=int32).\n",
      "Pickling array (shape=(282,), dtype=int32).\n",
      "Pickling array (shape=(70,), dtype=int32).\n",
      "Pickling array (shape=(282,), dtype=int32).\n",
      "Pickling array (shape=(70,), dtype=int32).\n",
      "Pickling array (shape=(281,), dtype=int32).\n",
      "Pickling array (shape=(71,), dtype=int32).\n",
      "[Parallel(n_jobs=8)]: Done  58 tasks      | elapsed:    2.3s\n",
      "Pickling array (shape=(6,), dtype=object).\n",
      "Pickling array (shape=(352,), dtype=int64).\n",
      "Pickling array (shape=(6, 352), dtype=int64).\n",
      "Pickling array (shape=(6,), dtype=object).\n",
      "Pickling array (shape=(1,), dtype=object).\n",
      "Pickling array (shape=(352,), dtype=int64).\n",
      "Pickling array (shape=(1, 352), dtype=object).\n",
      "Pickling array (shape=(1,), dtype=object).\n",
      "Pickling array (shape=(281,), dtype=int32).\n",
      "Pickling array (shape=(71,), dtype=int32).\n",
      "Pickling array (shape=(282,), dtype=int32).[Parallel(n_jobs=8)]: Done  60 tasks      | elapsed:    2.3s\n",
      "\n",
      "Pickling array (shape=(70,), dtype=int32).\n",
      "Pickling array (shape=(282,), dtype=int32).\n",
      "Pickling array (shape=(70,), dtype=int32).\n",
      "Pickling array (shape=(282,), dtype=int32).\n",
      "Pickling array (shape=(70,), dtype=int32).\n"
     ]
    },
    {
     "name": "stdout",
     "output_type": "stream",
     "text": [
      "Pickling array (shape=(6,), dtype=object).\n",
      "Pickling array (shape=(352,), dtype=int64).\n",
      "Pickling array (shape=(6, 352), dtype=int64).\n",
      "Pickling array (shape=(6,), dtype=object).\n",
      "Pickling array (shape=(1,), dtype=object).\n",
      "Pickling array (shape=(352,), dtype=int64).\n",
      "Pickling array (shape=(1, 352), dtype=object).\n",
      "Pickling array (shape=(1,), dtype=object).\n",
      "Pickling array (shape=(281,), dtype=int32).\n",
      "Pickling array (shape=(71,), dtype=int32).\n",
      "Pickling array (shape=(281,), dtype=int32).\n",
      "Pickling array (shape=(71,), dtype=int32).\n",
      "Pickling array (shape=(282,), dtype=int32).\n",
      "Pickling array (shape=(70,), dtype=int32).\n",
      "Pickling array (shape=(282,), dtype=int32).\n",
      "Pickling array (shape=(70,), dtype=int32).\n",
      "[Parallel(n_jobs=8)]: Done  62 tasks      | elapsed:    2.3s\n",
      "Pickling array (shape=(6,), dtype=object).\n",
      "Pickling array (shape=(352,), dtype=int64).\n",
      "Pickling array (shape=(6, 352), dtype=int64).\n",
      "Pickling array (shape=(6,), dtype=object).\n",
      "Pickling array (shape=(1,), dtype=object).\n",
      "Pickling array (shape=(352,), dtype=int64).\n",
      "Pickling array (shape=(1, 352), dtype=object).\n",
      "Pickling array (shape=(1,), dtype=object).\n",
      "Pickling array (shape=(282,), dtype=int32).\n",
      "Pickling array (shape=(70,), dtype=int32).\n",
      "Pickling array (shape=(281,), dtype=int32).\n",
      "Pickling array (shape=(71,), dtype=int32).\n",
      "Pickling array (shape=(281,), dtype=int32).\n",
      "Pickling array (shape=(71,), dtype=int32).\n",
      "Pickling array (shape=(282,), dtype=int32).\n",
      "Pickling array (shape=(70,), dtype=int32).\n",
      "[Parallel(n_jobs=8)]: Done  64 tasks      | elapsed:    2.3s\n",
      "Pickling array (shape=(6,), dtype=object).\n",
      "Pickling array (shape=(352,), dtype=int64).\n",
      "Pickling array (shape=(6, 352), dtype=int64).\n",
      "Pickling array (shape=(6,), dtype=object).\n",
      "Pickling array (shape=(1,), dtype=object).\n",
      "Pickling array (shape=(352,), dtype=int64).\n",
      "Pickling array (shape=(1, 352), dtype=object).\n",
      "Pickling array (shape=(1,), dtype=object).\n",
      "Pickling array (shape=(282,), dtype=int32).\n",
      "Pickling array (shape=(70,), dtype=int32).\n",
      "Pickling array (shape=(282,), dtype=int32).\n",
      "Pickling array (shape=(70,), dtype=int32).\n",
      "Pickling array (shape=(281,), dtype=int32).\n",
      "Pickling array (shape=(71,), dtype=int32).\n",
      "Pickling array (shape=(281,), dtype=int32).\n",
      "Pickling array (shape=(71,), dtype=int32).\n",
      "[Parallel(n_jobs=8)]: Done  66 tasks      | elapsed:    2.3s\n",
      "Pickling array (shape=(6,), dtype=object).\n",
      "Pickling array (shape=(352,), dtype=int64).\n",
      "Pickling array (shape=(6, 352), dtype=int64).\n",
      "Pickling array (shape=(6,), dtype=object).\n",
      "Pickling array (shape=(1,), dtype=object).\n",
      "Pickling array (shape=(352,), dtype=int64).\n",
      "Pickling array (shape=(1, 352), dtype=object).\n",
      "Pickling array (shape=(1,), dtype=object).\n",
      "Pickling array (shape=(282,), dtype=int32).\n",
      "Pickling array (shape=(70,), dtype=int32).\n",
      "Pickling array (shape=(282,), dtype=int32).\n",
      "Pickling array (shape=(70,), dtype=int32).\n",
      "Pickling array (shape=(282,), dtype=int32).\n",
      "Pickling array (shape=(70,), dtype=int32).\n",
      "Pickling array (shape=(281,), dtype=int32).\n",
      "Pickling array (shape=(71,), dtype=int32).\n",
      "[Parallel(n_jobs=8)]: Done  68 tasks      | elapsed:    2.4s\n",
      "Pickling array (shape=(6,), dtype=object).\n",
      "Pickling array (shape=(352,), dtype=int64).\n",
      "Pickling array (shape=(6, 352), dtype=int64).\n",
      "Pickling array (shape=(6,), dtype=object).\n",
      "Pickling array (shape=(1,), dtype=object).\n",
      "Pickling array (shape=(352,), dtype=int64).\n",
      "Pickling array (shape=(1, 352), dtype=object).\n",
      "Pickling array (shape=(1,), dtype=object).\n",
      "Pickling array (shape=(281,), dtype=int32).\n",
      "Pickling array (shape=(71,), dtype=int32).\n",
      "Pickling array (shape=(282,), dtype=int32).\n",
      "Pickling array (shape=(70,), dtype=int32).\n",
      "Pickling array (shape=(282,), dtype=int32).\n",
      "Pickling array (shape=(70,), dtype=int32).\n",
      "Pickling array (shape=(282,), dtype=int32).\n",
      "Pickling array (shape=(70,), dtype=int32).\n",
      "[Parallel(n_jobs=8)]: Done  70 tasks      | elapsed:    2.4s\n",
      "Pickling array (shape=(6,), dtype=object).\n",
      "Pickling array (shape=(352,), dtype=int64).\n",
      "Pickling array (shape=(6, 352), dtype=int64).\n",
      "Pickling array (shape=(6,), dtype=object).\n",
      "Pickling array (shape=(1,), dtype=object).\n",
      "Pickling array (shape=(352,), dtype=int64).\n",
      "Pickling array (shape=(1, 352), dtype=object).\n",
      "Pickling array (shape=(1,), dtype=object).\n",
      "Pickling array (shape=(281,), dtype=int32).\n",
      "Pickling array (shape=(71,), dtype=int32).\n",
      "Pickling array (shape=(281,), dtype=int32).\n",
      "Pickling array (shape=(71,), dtype=int32).\n",
      "Pickling array (shape=(282,), dtype=int32).\n",
      "Pickling array (shape=(70,), dtype=int32).\n",
      "Pickling array (shape=(282,), dtype=int32).\n",
      "Pickling array (shape=(70,), dtype=int32).\n",
      "[Parallel(n_jobs=8)]: Done  72 tasks      | elapsed:    2.4s\n",
      "Pickling array (shape=(6,), dtype=object).\n",
      "Pickling array (shape=(352,), dtype=int64).\n",
      "Pickling array (shape=(6, 352), dtype=int64).\n",
      "Pickling array (shape=(6,), dtype=object).\n",
      "Pickling array (shape=(1,), dtype=object).\n",
      "Pickling array (shape=(352,), dtype=int64).\n",
      "Pickling array (shape=(1, 352), dtype=object).\n",
      "Pickling array (shape=(1,), dtype=object).\n",
      "Pickling array (shape=(282,), dtype=int32).\n",
      "Pickling array (shape=(70,), dtype=int32).\n",
      "Pickling array (shape=(281,), dtype=int32).\n",
      "Pickling array (shape=(71,), dtype=int32).\n",
      "Pickling array (shape=(281,), dtype=int32).\n",
      "Pickling array (shape=(71,), dtype=int32).\n",
      "Pickling array (shape=(282,), dtype=int32).\n",
      "Pickling array (shape=(70,), dtype=int32).\n",
      "[Parallel(n_jobs=8)]: Done  74 tasks      | elapsed:    2.4s\n",
      "Pickling array (shape=(6,), dtype=object).\n",
      "Pickling array (shape=(352,), dtype=int64).\n",
      "Pickling array (shape=(6, 352), dtype=int64).\n",
      "Pickling array (shape=(6,), dtype=object).\n",
      "Pickling array (shape=(1,), dtype=object).\n",
      "Pickling array (shape=(352,), dtype=int64).\n",
      "Pickling array (shape=(1, 352), dtype=object).\n",
      "Pickling array (shape=(1,), dtype=object).\n",
      "Pickling array (shape=(282,), dtype=int32).\n",
      "Pickling array (shape=(70,), dtype=int32).\n",
      "Pickling array (shape=(282,), dtype=int32).\n",
      "Pickling array (shape=(70,), dtype=int32).\n",
      "Pickling array (shape=(281,), dtype=int32).\n",
      "Pickling array (shape=(71,), dtype=int32).\n",
      "Pickling array (shape=(281,), dtype=int32).\n",
      "Pickling array (shape=(71,), dtype=int32).\n",
      "[Parallel(n_jobs=8)]: Done  76 tasks      | elapsed:    2.4s\n",
      "Pickling array (shape=(6,), dtype=object).\n",
      "Pickling array (shape=(352,), dtype=int64).\n",
      "Pickling array (shape=(6, 352), dtype=int64).\n",
      "Pickling array (shape=(6,), dtype=object).\n",
      "Pickling array (shape=(1,), dtype=object).\n",
      "Pickling array (shape=(352,), dtype=int64).\n",
      "Pickling array (shape=(1, 352), dtype=object).\n",
      "Pickling array (shape=(1,), dtype=object).\n",
      "Pickling array (shape=(282,), dtype=int32).\n",
      "Pickling array (shape=(70,), dtype=int32).\n",
      "Pickling array (shape=(282,), dtype=int32).\n",
      "Pickling array (shape=(70,), dtype=int32).\n",
      "Pickling array (shape=(282,), dtype=int32).\n",
      "Pickling array (shape=(70,), dtype=int32).\n",
      "Pickling array (shape=(281,), dtype=int32).\n",
      "Pickling array (shape=(71,), dtype=int32).\n",
      "[Parallel(n_jobs=8)]: Done  78 tasks      | elapsed:    2.4s\n",
      "Pickling array (shape=(6,), dtype=object).\n",
      "Pickling array (shape=(352,), dtype=int64).\n",
      "Pickling array (shape=(6, 352), dtype=int64).\n",
      "Pickling array (shape=(6,), dtype=object).\n",
      "Pickling array (shape=(1,), dtype=object).\n",
      "Pickling array (shape=(352,), dtype=int64).\n",
      "Pickling array (shape=(1, 352), dtype=object).\n",
      "Pickling array (shape=(1,), dtype=object).\n",
      "Pickling array (shape=(281,), dtype=int32).\n",
      "Pickling array (shape=(71,), dtype=int32).\n",
      "Pickling array (shape=(282,), dtype=int32).\n",
      "Pickling array (shape=(70,), dtype=int32).\n",
      "Pickling array (shape=(282,), dtype=int32).\n",
      "Pickling array (shape=(70,), dtype=int32).\n",
      "Pickling array (shape=(282,), dtype=int32).\n",
      "Pickling array (shape=(70,), dtype=int32).\n",
      "[Parallel(n_jobs=8)]: Done  80 tasks      | elapsed:    2.4s\n",
      "Pickling array (shape=(6,), dtype=object).\n",
      "Pickling array (shape=(352,), dtype=int64).\n",
      "Pickling array (shape=(6, 352), dtype=int64).\n",
      "Pickling array (shape=(6,), dtype=object).\n",
      "Pickling array (shape=(1,), dtype=object).\n",
      "Pickling array (shape=(352,), dtype=int64).\n",
      "Pickling array (shape=(1, 352), dtype=object).\n",
      "Pickling array (shape=(1,), dtype=object).\n",
      "Pickling array (shape=(281,), dtype=int32).\n",
      "Pickling array (shape=(71,), dtype=int32).\n",
      "Pickling array (shape=(281,), dtype=int32).\n",
      "Pickling array (shape=(71,), dtype=int32).\n",
      "Pickling array (shape=(282,), dtype=int32).\n",
      "Pickling array (shape=(70,), dtype=int32).\n",
      "Pickling array (shape=(282,), dtype=int32).\n",
      "Pickling array (shape=(70,), dtype=int32).\n",
      "[Parallel(n_jobs=8)]: Done  84 tasks      | elapsed:    2.4s\n",
      "[Parallel(n_jobs=8)]: Batch computation too fast (0.1614s.) Setting batch_size=8.\n",
      "Pickling array (shape=(6,), dtype=object).\n",
      "Pickling array (shape=(352,), dtype=int64).\n",
      "Pickling array (shape=(6, 352), dtype=int64).\n",
      "Pickling array (shape=(6,), dtype=object).\n",
      "Pickling array (shape=(1,), dtype=object).\n",
      "Pickling array (shape=(352,), dtype=int64).\n",
      "Pickling array (shape=(1, 352), dtype=object).\n",
      "Pickling array (shape=(1,), dtype=object).\n",
      "Pickling array (shape=(282,), dtype=int32).\n",
      "Pickling array (shape=(70,), dtype=int32).\n",
      "Pickling array (shape=(281,), dtype=int32).\n",
      "Pickling array (shape=(71,), dtype=int32).\n",
      "Pickling array (shape=(281,), dtype=int32).\n",
      "Pickling array (shape=(71,), dtype=int32).\n",
      "Pickling array (shape=(282,), dtype=int32).\n",
      "Pickling array (shape=(70,), dtype=int32).\n",
      "Pickling array (shape=(282,), dtype=int32).\n",
      "Pickling array (shape=(70,), dtype=int32).\n",
      "[Parallel(n_jobs=8)]: Done  88 tasks      | elapsed:    2.4s\n",
      "Pickling array (shape=(6,), dtype=object).\n",
      "Pickling array (shape=(352,), dtype=int64).\n",
      "Pickling array (shape=(6, 352), dtype=int64).\n",
      "Pickling array (shape=(6,), dtype=object).\n",
      "Pickling array (shape=(1,), dtype=object).\n",
      "Pickling array (shape=(352,), dtype=int64).\n",
      "Pickling array (shape=(1, 352), dtype=object).\n",
      "Pickling array (shape=(1,), dtype=object).\n",
      "Pickling array (shape=(282,), dtype=int32).\n",
      "Pickling array (shape=(70,), dtype=int32).\n",
      "Pickling array (shape=(282,), dtype=int32).\n",
      "Pickling array (shape=(70,), dtype=int32).\n",
      "Pickling array (shape=(282,), dtype=int32).\n",
      "Pickling array (shape=(70,), dtype=int32).\n",
      "Pickling array (shape=(281,), dtype=int32).\n",
      "Pickling array (shape=(71,), dtype=int32).\n",
      "Pickling array (shape=(281,), dtype=int32).\n",
      "Pickling array (shape=(71,), dtype=int32).\n",
      "[Parallel(n_jobs=8)]: Done  92 tasks      | elapsed:    2.5s\n",
      "Pickling array (shape=(6,), dtype=object).\n",
      "Pickling array (shape=(352,), dtype=int64).\n",
      "Pickling array (shape=(6, 352), dtype=int64).\n",
      "Pickling array (shape=(6,), dtype=object).\n",
      "Pickling array (shape=(1,), dtype=object).\n",
      "Pickling array (shape=(352,), dtype=int64).\n",
      "Pickling array (shape=(1, 352), dtype=object).\n",
      "Pickling array (shape=(1,), dtype=object).\n",
      "Pickling array (shape=(281,), dtype=int32).\n",
      "Pickling array (shape=(71,), dtype=int32).\n",
      "Pickling array (shape=(281,), dtype=int32).\n",
      "Pickling array (shape=(71,), dtype=int32).\n",
      "Pickling array (shape=(282,), dtype=int32).\n",
      "Pickling array (shape=(70,), dtype=int32).\n",
      "Pickling array (shape=(282,), dtype=int32).\n",
      "Pickling array (shape=(70,), dtype=int32).\n",
      "Pickling array (shape=(282,), dtype=int32).\n",
      "Pickling array (shape=(70,), dtype=int32).\n",
      "[Parallel(n_jobs=8)]: Done  96 tasks      | elapsed:    2.5s\n",
      "Pickling array (shape=(6,), dtype=object).\n",
      "Pickling array (shape=(352,), dtype=int64).\n",
      "Pickling array (shape=(6, 352), dtype=int64).\n",
      "Pickling array (shape=(6,), dtype=object).\n",
      "Pickling array (shape=(1,), dtype=object).\n",
      "Pickling array (shape=(352,), dtype=int64).\n",
      "Pickling array (shape=(1, 352), dtype=object).\n",
      "Pickling array (shape=(1,), dtype=object).\n",
      "Pickling array (shape=(282,), dtype=int32).\n",
      "Pickling array (shape=(70,), dtype=int32).\n",
      "Pickling array (shape=(282,), dtype=int32).\n",
      "Pickling array (shape=(70,), dtype=int32).\n",
      "Pickling array (shape=(281,), dtype=int32).\n",
      "Pickling array (shape=(71,), dtype=int32).\n",
      "Pickling array (shape=(281,), dtype=int32).\n",
      "Pickling array (shape=(71,), dtype=int32).\n",
      "Pickling array (shape=(282,), dtype=int32).\n",
      "Pickling array (shape=(70,), dtype=int32).\n",
      "[Parallel(n_jobs=8)]: Done 100 tasks      | elapsed:    2.5s\n",
      "Pickling array (shape=(6,), dtype=object).\n",
      "Pickling array (shape=(352,), dtype=int64).\n",
      "Pickling array (shape=(6, 352), dtype=int64).\n",
      "Pickling array (shape=(6,), dtype=object).\n",
      "Pickling array (shape=(1,), dtype=object).\n",
      "Pickling array (shape=(352,), dtype=int64).\n",
      "Pickling array (shape=(1, 352), dtype=object).\n"
     ]
    },
    {
     "name": "stdout",
     "output_type": "stream",
     "text": [
      "Pickling array (shape=(1,), dtype=object).\n",
      "Pickling array (shape=(281,), dtype=int32).\n",
      "Pickling array (shape=(71,), dtype=int32).\n",
      "Pickling array (shape=(282,), dtype=int32).\n",
      "Pickling array (shape=(70,), dtype=int32).\n",
      "Pickling array (shape=(282,), dtype=int32).\n",
      "Pickling array (shape=(70,), dtype=int32).\n",
      "Pickling array (shape=(282,), dtype=int32).\n",
      "Pickling array (shape=(70,), dtype=int32).\n",
      "Pickling array (shape=(281,), dtype=int32).\n",
      "Pickling array (shape=(71,), dtype=int32).\n",
      "[Parallel(n_jobs=8)]: Done 104 tasks      | elapsed:    2.5s\n",
      "Pickling array (shape=(6,), dtype=object).\n",
      "Pickling array (shape=(352,), dtype=int64).\n",
      "Pickling array (shape=(6, 352), dtype=int64).\n",
      "Pickling array (shape=(6,), dtype=object).\n",
      "Pickling array (shape=(1,), dtype=object).\n",
      "Pickling array (shape=(352,), dtype=int64).\n",
      "Pickling array (shape=(1, 352), dtype=object).\n",
      "Pickling array (shape=(1,), dtype=object).\n",
      "Pickling array (shape=(282,), dtype=int32).\n",
      "Pickling array (shape=(70,), dtype=int32).\n",
      "Pickling array (shape=(281,), dtype=int32).\n",
      "Pickling array (shape=(71,), dtype=int32).\n",
      "Pickling array (shape=(281,), dtype=int32).\n",
      "Pickling array (shape=(71,), dtype=int32).\n",
      "Pickling array (shape=(282,), dtype=int32).\n",
      "Pickling array (shape=(70,), dtype=int32).\n",
      "Pickling array (shape=(282,), dtype=int32).\n",
      "Pickling array (shape=(70,), dtype=int32).\n",
      "[Parallel(n_jobs=8)]: Done 108 tasks      | elapsed:    2.5s\n",
      "Pickling array (shape=(6,), dtype=object).\n",
      "Pickling array (shape=(352,), dtype=int64).\n",
      "Pickling array (shape=(6, 352), dtype=int64).\n",
      "Pickling array (shape=(6,), dtype=object).\n",
      "Pickling array (shape=(1,), dtype=object).\n",
      "Pickling array (shape=(352,), dtype=int64).\n",
      "Pickling array (shape=(1, 352), dtype=object).\n",
      "Pickling array (shape=(1,), dtype=object).\n",
      "Pickling array (shape=(282,), dtype=int32).\n",
      "Pickling array (shape=(70,), dtype=int32).\n",
      "Pickling array (shape=(282,), dtype=int32).\n",
      "Pickling array (shape=(70,), dtype=int32).\n",
      "Pickling array (shape=(282,), dtype=int32).\n",
      "Pickling array (shape=(70,), dtype=int32).\n",
      "Pickling array (shape=(281,), dtype=int32).\n",
      "Pickling array (shape=(71,), dtype=int32).\n",
      "Pickling array (shape=(281,), dtype=int32).\n",
      "Pickling array (shape=(71,), dtype=int32).\n",
      "[Parallel(n_jobs=8)]: Done 112 tasks      | elapsed:    2.6s\n",
      "Pickling array (shape=(6,), dtype=object).\n",
      "Pickling array (shape=(352,), dtype=int64).\n",
      "Pickling array (shape=(6, 352), dtype=int64).\n",
      "Pickling array (shape=(6,), dtype=object).\n",
      "Pickling array (shape=(1,), dtype=object).\n",
      "Pickling array (shape=(352,), dtype=int64).\n",
      "Pickling array (shape=(1, 352), dtype=object).\n",
      "Pickling array (shape=(1,), dtype=object).\n",
      "Pickling array (shape=(281,), dtype=int32).\n",
      "Pickling array (shape=(71,), dtype=int32).\n",
      "Pickling array (shape=(281,), dtype=int32).\n",
      "Pickling array (shape=(71,), dtype=int32).\n",
      "Pickling array (shape=(282,), dtype=int32).\n",
      "Pickling array (shape=(70,), dtype=int32).\n",
      "Pickling array (shape=(282,), dtype=int32).\n",
      "Pickling array (shape=(70,), dtype=int32).\n",
      "Pickling array (shape=(282,), dtype=int32).\n",
      "Pickling array (shape=(70,), dtype=int32).\n",
      "[Parallel(n_jobs=8)]: Done 116 tasks      | elapsed:    2.6s\n",
      "Pickling array (shape=(6,), dtype=object).\n",
      "Pickling array (shape=(352,), dtype=int64).\n",
      "Pickling array (shape=(6, 352), dtype=int64).\n",
      "Pickling array (shape=(6,), dtype=object).\n",
      "Pickling array (shape=(1,), dtype=object).\n",
      "Pickling array (shape=(352,), dtype=int64).\n",
      "Pickling array (shape=(1, 352), dtype=object).\n",
      "Pickling array (shape=(1,), dtype=object).\n",
      "Pickling array (shape=(282,), dtype=int32).\n",
      "Pickling array (shape=(70,), dtype=int32).\n",
      "Pickling array (shape=(282,), dtype=int32).\n",
      "Pickling array (shape=(70,), dtype=int32).\n",
      "Pickling array (shape=(281,), dtype=int32).\n",
      "Pickling array (shape=(71,), dtype=int32).\n",
      "Pickling array (shape=(281,), dtype=int32).\n",
      "Pickling array (shape=(71,), dtype=int32).\n",
      "Pickling array (shape=(282,), dtype=int32).\n",
      "Pickling array (shape=(70,), dtype=int32).\n",
      "[Parallel(n_jobs=8)]: Done 120 tasks      | elapsed:    2.6s\n",
      "Pickling array (shape=(6,), dtype=object).\n",
      "Pickling array (shape=(352,), dtype=int64).\n",
      "Pickling array (shape=(6, 352), dtype=int64).\n",
      "Pickling array (shape=(6,), dtype=object).\n",
      "Pickling array (shape=(1,), dtype=object).\n",
      "Pickling array (shape=(352,), dtype=int64).\n",
      "Pickling array (shape=(1, 352), dtype=object).\n",
      "Pickling array (shape=(1,), dtype=object).\n",
      "Pickling array (shape=(281,), dtype=int32).\n",
      "Pickling array (shape=(71,), dtype=int32).\n",
      "Pickling array (shape=(282,), dtype=int32).\n",
      "Pickling array (shape=(70,), dtype=int32).\n",
      "Pickling array (shape=(282,), dtype=int32).\n",
      "Pickling array (shape=(70,), dtype=int32).\n",
      "Pickling array (shape=(282,), dtype=int32).\n",
      "Pickling array (shape=(70,), dtype=int32).\n",
      "Pickling array (shape=(281,), dtype=int32).\n",
      "Pickling array (shape=(71,), dtype=int32).\n",
      "[Parallel(n_jobs=8)]: Done 124 tasks      | elapsed:    2.6s\n",
      "Pickling array (shape=(6,), dtype=object).\n",
      "Pickling array (shape=(352,), dtype=int64).\n",
      "Pickling array (shape=(6, 352), dtype=int64).\n",
      "Pickling array (shape=(6,), dtype=object).\n",
      "Pickling array (shape=(1,), dtype=object).\n",
      "Pickling array (shape=(352,), dtype=int64).\n",
      "Pickling array (shape=(1, 352), dtype=object).\n",
      "Pickling array (shape=(1,), dtype=object).\n",
      "Pickling array (shape=(282,), dtype=int32).\n",
      "Pickling array (shape=(70,), dtype=int32).\n",
      "Pickling array (shape=(281,), dtype=int32).\n",
      "Pickling array (shape=(71,), dtype=int32).\n",
      "Pickling array (shape=(281,), dtype=int32).\n",
      "Pickling array (shape=(71,), dtype=int32).\n",
      "Pickling array (shape=(282,), dtype=int32).\n",
      "Pickling array (shape=(70,), dtype=int32).\n",
      "Pickling array (shape=(282,), dtype=int32).\n",
      "Pickling array (shape=(70,), dtype=int32).\n",
      "[Parallel(n_jobs=8)]: Done 128 tasks      | elapsed:    2.6s\n",
      "Pickling array (shape=(6,), dtype=object).\n",
      "Pickling array (shape=(352,), dtype=int64).\n",
      "Pickling array (shape=(6, 352), dtype=int64).\n",
      "Pickling array (shape=(6,), dtype=object).\n",
      "Pickling array (shape=(1,), dtype=object).\n",
      "Pickling array (shape=(352,), dtype=int64).\n",
      "Pickling array (shape=(1, 352), dtype=object).\n",
      "Pickling array (shape=(1,), dtype=object).\n",
      "Pickling array (shape=(282,), dtype=int32).\n",
      "Pickling array (shape=(70,), dtype=int32).\n",
      "Pickling array (shape=(282,), dtype=int32).\n",
      "Pickling array (shape=(70,), dtype=int32).\n",
      "Pickling array (shape=(282,), dtype=int32).\n",
      "Pickling array (shape=(70,), dtype=int32).\n",
      "Pickling array (shape=(281,), dtype=int32).[Parallel(n_jobs=8)]: Done 132 tasks      | elapsed:    2.6s\n",
      "\n",
      "Pickling array (shape=(71,), dtype=int32).\n",
      "Pickling array (shape=(281,), dtype=int32).\n",
      "Pickling array (shape=(71,), dtype=int32).\n",
      "Pickling array (shape=(6,), dtype=object).\n",
      "Pickling array (shape=(352,), dtype=int64).\n",
      "Pickling array (shape=(6, 352), dtype=int64).\n",
      "Pickling array (shape=(6,), dtype=object).\n",
      "Pickling array (shape=(1,), dtype=object).\n",
      "Pickling array (shape=(352,), dtype=int64).\n",
      "Pickling array (shape=(1, 352), dtype=object).\n",
      "Pickling array (shape=(1,), dtype=object).\n",
      "Pickling array (shape=(281,), dtype=int32).\n",
      "Pickling array (shape=(71,), dtype=int32).\n",
      "Pickling array (shape=(281,), dtype=int32).\n",
      "Pickling array (shape=(71,), dtype=int32).\n",
      "Pickling array (shape=(282,), dtype=int32).\n",
      "Pickling array (shape=(70,), dtype=int32).\n",
      "Pickling array (shape=(282,), dtype=int32).\n",
      "Pickling array (shape=(70,), dtype=int32).\n",
      "Pickling array (shape=(282,), dtype=int32).\n",
      "Pickling array (shape=(70,), dtype=int32).\n",
      "[Parallel(n_jobs=8)]: Done 136 tasks      | elapsed:    2.6s\n",
      "Pickling array (shape=(6,), dtype=object).\n",
      "Pickling array (shape=(352,), dtype=int64).\n",
      "Pickling array (shape=(6, 352), dtype=int64).\n",
      "Pickling array (shape=(6,), dtype=object).\n",
      "Pickling array (shape=(1,), dtype=object).\n",
      "Pickling array (shape=(352,), dtype=int64).\n",
      "Pickling array (shape=(1, 352), dtype=object).\n",
      "Pickling array (shape=(1,), dtype=object).\n",
      "Pickling array (shape=(282,), dtype=int32).\n",
      "Pickling array (shape=(70,), dtype=int32).\n",
      "Pickling array (shape=(282,), dtype=int32).\n",
      "Pickling array (shape=(70,), dtype=int32).\n",
      "Pickling array (shape=(281,), dtype=int32).\n",
      "Pickling array (shape=(71,), dtype=int32).\n",
      "Pickling array (shape=(281,), dtype=int32).\n",
      "Pickling array (shape=(71,), dtype=int32).\n",
      "Pickling array (shape=(282,), dtype=int32).\n",
      "Pickling array (shape=(70,), dtype=int32).\n",
      "[Parallel(n_jobs=8)]: Done 140 tasks      | elapsed:    2.7s\n",
      "Pickling array (shape=(6,), dtype=object).\n",
      "Pickling array (shape=(352,), dtype=int64).\n",
      "Pickling array (shape=(6, 352), dtype=int64).\n",
      "Pickling array (shape=(6,), dtype=object).\n",
      "Pickling array (shape=(1,), dtype=object).\n",
      "Pickling array (shape=(352,), dtype=int64).\n",
      "Pickling array (shape=(1, 352), dtype=object).\n",
      "Pickling array (shape=(1,), dtype=object).\n",
      "Pickling array (shape=(281,), dtype=int32).\n",
      "Pickling array (shape=(71,), dtype=int32).\n",
      "Pickling array (shape=(282,), dtype=int32).\n",
      "Pickling array (shape=(70,), dtype=int32).\n",
      "Pickling array (shape=(282,), dtype=int32).\n",
      "Pickling array (shape=(70,), dtype=int32).\n",
      "Pickling array (shape=(282,), dtype=int32).\n",
      "Pickling array (shape=(70,), dtype=int32).\n",
      "Pickling array (shape=(281,), dtype=int32).\n",
      "Pickling array (shape=(71,), dtype=int32).\n",
      "[Parallel(n_jobs=8)]: Done 144 tasks      | elapsed:    2.7s\n",
      "Pickling array (shape=(6,), dtype=object).\n",
      "Pickling array (shape=(352,), dtype=int64).\n",
      "Pickling array (shape=(6, 352), dtype=int64).\n",
      "Pickling array (shape=(6,), dtype=object).\n",
      "Pickling array (shape=(1,), dtype=object).\n",
      "Pickling array (shape=(352,), dtype=int64).\n",
      "Pickling array (shape=(1, 352), dtype=object).\n",
      "Pickling array (shape=(1,), dtype=object).\n",
      "Pickling array (shape=(282,), dtype=int32).\n",
      "Pickling array (shape=(70,), dtype=int32).\n",
      "Pickling array (shape=(281,), dtype=int32).\n",
      "Pickling array (shape=(71,), dtype=int32).\n",
      "Pickling array (shape=(281,), dtype=int32).\n",
      "Pickling array (shape=(71,), dtype=int32).\n",
      "Pickling array (shape=(282,), dtype=int32).\n",
      "Pickling array (shape=(70,), dtype=int32).\n",
      "Pickling array (shape=(282,), dtype=int32).\n",
      "Pickling array (shape=(70,), dtype=int32).\n",
      "[Parallel(n_jobs=8)]: Done 152 tasks      | elapsed:    2.7s\n"
     ]
    },
    {
     "name": "stdout",
     "output_type": "stream",
     "text": [
      "Pickling array (shape=(6,), dtype=object).\n",
      "Pickling array (shape=(352,), dtype=int64).\n",
      "Pickling array (shape=(6, 352), dtype=int64).\n",
      "Pickling array (shape=(6,), dtype=object).\n",
      "Pickling array (shape=(1,), dtype=object).\n",
      "Pickling array (shape=(352,), dtype=int64).\n",
      "Pickling array (shape=(1, 352), dtype=object).\n",
      "Pickling array (shape=(1,), dtype=object).\n",
      "Pickling array (shape=(282,), dtype=int32).\n",
      "Pickling array (shape=(70,), dtype=int32).\n",
      "[Parallel(n_jobs=8)]: Done 160 tasks      | elapsed:    2.7s\n",
      "Pickling array (shape=(6,), dtype=object).\n",
      "Pickling array (shape=(352,), dtype=int64).\n",
      "Pickling array (shape=(6, 352), dtype=int64).\n",
      "Pickling array (shape=(6,), dtype=object).\n",
      "Pickling array (shape=(1,), dtype=object).\n",
      "Pickling array (shape=(352,), dtype=int64).\n",
      "Pickling array (shape=(1, 352), dtype=object).\n",
      "Pickling array (shape=(1,), dtype=object).\n",
      "Pickling array (shape=(282,), dtype=int32).\n",
      "Pickling array (shape=(70,), dtype=int32).\n",
      "[Parallel(n_jobs=8)]: Done 168 tasks      | elapsed:    2.7s\n",
      "Pickling array (shape=(6,), dtype=object).\n",
      "Pickling array (shape=(352,), dtype=int64).\n",
      "Pickling array (shape=(6, 352), dtype=int64).\n",
      "Pickling array (shape=(6,), dtype=object).\n",
      "Pickling array (shape=(1,), dtype=object).\n",
      "Pickling array (shape=(352,), dtype=int64).\n",
      "Pickling array (shape=(1, 352), dtype=object).\n",
      "Pickling array (shape=(1,), dtype=object).\n",
      "Pickling array (shape=(282,), dtype=int32).\n",
      "Pickling array (shape=(70,), dtype=int32).\n",
      "[Parallel(n_jobs=8)]: Done 176 tasks      | elapsed:    2.7s\n",
      "Pickling array (shape=(6,), dtype=object).\n",
      "Pickling array (shape=(352,), dtype=int64).\n",
      "Pickling array (shape=(6, 352), dtype=int64).\n",
      "Pickling array (shape=(6,), dtype=object).\n",
      "Pickling array (shape=(1,), dtype=object).\n",
      "Pickling array (shape=(352,), dtype=int64).\n",
      "Pickling array (shape=(1, 352), dtype=object).\n",
      "Pickling array (shape=(1,), dtype=object).\n",
      "Pickling array (shape=(281,), dtype=int32).\n",
      "Pickling array (shape=(71,), dtype=int32).\n",
      "[Parallel(n_jobs=8)]: Done 184 tasks      | elapsed:    2.7s\n",
      "Pickling array (shape=(6,), dtype=object).\n",
      "Pickling array (shape=(352,), dtype=int64).\n",
      "Pickling array (shape=(6, 352), dtype=int64).\n",
      "Pickling array (shape=(6,), dtype=object).\n",
      "Pickling array (shape=(1,), dtype=object).\n",
      "Pickling array (shape=(352,), dtype=int64).\n",
      "Pickling array (shape=(1, 352), dtype=object).\n",
      "Pickling array (shape=(1,), dtype=object).\n",
      "Pickling array (shape=(281,), dtype=int32).\n",
      "Pickling array (shape=(71,), dtype=int32).\n",
      "[Parallel(n_jobs=8)]: Done 192 tasks      | elapsed:    2.7s\n",
      "Pickling array (shape=(6,), dtype=object).\n",
      "Pickling array (shape=(352,), dtype=int64).\n",
      "Pickling array (shape=(6, 352), dtype=int64).\n",
      "Pickling array (shape=(6,), dtype=object).\n",
      "Pickling array (shape=(1,), dtype=object).\n",
      "Pickling array (shape=(352,), dtype=int64).\n",
      "Pickling array (shape=(1, 352), dtype=object).\n",
      "Pickling array (shape=(1,), dtype=object).\n",
      "Pickling array (shape=(282,), dtype=int32).\n",
      "Pickling array (shape=(70,), dtype=int32).\n",
      "[Parallel(n_jobs=8)]: Done 200 tasks      | elapsed:    2.8s\n",
      "Pickling array (shape=(6,), dtype=object).\n",
      "Pickling array (shape=(352,), dtype=int64).\n",
      "Pickling array (shape=(6, 352), dtype=int64).\n",
      "Pickling array (shape=(6,), dtype=object).\n",
      "Pickling array (shape=(1,), dtype=object).\n",
      "Pickling array (shape=(352,), dtype=int64).\n",
      "Pickling array (shape=(1, 352), dtype=object).\n",
      "Pickling array (shape=(1,), dtype=object).\n",
      "Pickling array (shape=(282,), dtype=int32).\n",
      "Pickling array (shape=(70,), dtype=int32).\n",
      "[Parallel(n_jobs=8)]: Done 208 tasks      | elapsed:    2.8s\n",
      "Pickling array (shape=(6,), dtype=object).\n",
      "Pickling array (shape=(352,), dtype=int64).\n",
      "Pickling array (shape=(6, 352), dtype=int64).\n",
      "Pickling array (shape=(6,), dtype=object).\n",
      "Pickling array (shape=(1,), dtype=object).\n",
      "Pickling array (shape=(352,), dtype=int64).\n",
      "Pickling array (shape=(1, 352), dtype=object).\n",
      "Pickling array (shape=(1,), dtype=object).\n",
      "Pickling array (shape=(282,), dtype=int32).\n",
      "Pickling array (shape=(70,), dtype=int32).\n",
      "[Parallel(n_jobs=8)]: Done 216 tasks      | elapsed:    2.8s\n",
      "Pickling array (shape=(6,), dtype=object).\n",
      "Pickling array (shape=(352,), dtype=int64).\n",
      "Pickling array (shape=(6, 352), dtype=int64).\n",
      "Pickling array (shape=(6,), dtype=object).\n",
      "Pickling array (shape=(1,), dtype=object).\n",
      "Pickling array (shape=(352,), dtype=int64).\n",
      "Pickling array (shape=(1, 352), dtype=object).\n",
      "Pickling array (shape=(1,), dtype=object).\n",
      "Pickling array (shape=(281,), dtype=int32).\n",
      "Pickling array (shape=(71,), dtype=int32).\n",
      "[Parallel(n_jobs=8)]: Done 224 tasks      | elapsed:    2.8s\n",
      "Pickling array (shape=(6,), dtype=object).\n",
      "Pickling array (shape=(352,), dtype=int64).\n",
      "Pickling array (shape=(6, 352), dtype=int64).\n",
      "Pickling array (shape=(6,), dtype=object).\n",
      "Pickling array (shape=(1,), dtype=object).\n",
      "Pickling array (shape=(352,), dtype=int64).\n",
      "Pickling array (shape=(1, 352), dtype=object).\n",
      "Pickling array (shape=(1,), dtype=object).\n",
      "Pickling array (shape=(281,), dtype=int32).\n",
      "Pickling array (shape=(71,), dtype=int32).\n",
      "[Parallel(n_jobs=8)]: Done 232 tasks      | elapsed:    2.8s\n",
      "[Parallel(n_jobs=8)]: Batch computation too fast (0.1998s.) Setting batch_size=16.\n",
      "Pickling array (shape=(6,), dtype=object).\n",
      "Pickling array (shape=(352,), dtype=int64).\n",
      "[Parallel(n_jobs=8)]: Done 240 tasks      | elapsed:    2.8s\n",
      "Pickling array (shape=(6, 352), dtype=int64).\n",
      "Pickling array (shape=(6,), dtype=object).\n",
      "Pickling array (shape=(1,), dtype=object).\n",
      "Pickling array (shape=(352,), dtype=int64).\n",
      "Pickling array (shape=(1, 352), dtype=object).\n",
      "Pickling array (shape=(1,), dtype=object).\n",
      "Pickling array (shape=(282,), dtype=int32).\n",
      "Pickling array (shape=(70,), dtype=int32).\n",
      "Pickling array (shape=(6,), dtype=object).\n",
      "Pickling array (shape=(352,), dtype=int64).\n",
      "Pickling array (shape=(6, 352), dtype=int64).\n",
      "Pickling array (shape=(6,), dtype=object).\n",
      "Pickling array (shape=(1,), dtype=object).\n",
      "Pickling array (shape=(352,), dtype=int64).\n",
      "Pickling array (shape=(1, 352), dtype=object).\n",
      "Pickling array (shape=(1,), dtype=object).\n",
      "Pickling array (shape=(282,), dtype=int32).\n",
      "Pickling array (shape=(70,), dtype=int32).\n",
      "[Parallel(n_jobs=8)]: Done 248 tasks      | elapsed:    2.8s\n",
      "Pickling array (shape=(6,), dtype=object).\n",
      "Pickling array (shape=(352,), dtype=int64).\n",
      "Pickling array (shape=(6, 352), dtype=int64).\n",
      "Pickling array (shape=(6,), dtype=object).\n",
      "Pickling array (shape=(1,), dtype=object).\n",
      "Pickling array (shape=(352,), dtype=int64).\n",
      "Pickling array (shape=(1, 352), dtype=object).\n",
      "Pickling array (shape=(1,), dtype=object).[Parallel(n_jobs=8)]: Done 256 tasks      | elapsed:    2.8s\n",
      "\n",
      "Pickling array (shape=(282,), dtype=int32).\n",
      "Pickling array (shape=(70,), dtype=int32).\n",
      "Pickling array (shape=(6,), dtype=object).\n",
      "Pickling array (shape=(352,), dtype=int64).\n",
      "Pickling array (shape=(6, 352), dtype=int64).\n",
      "Pickling array (shape=(6,), dtype=object).\n",
      "Pickling array (shape=(1,), dtype=object).\n",
      "Pickling array (shape=(352,), dtype=int64).\n",
      "Pickling array (shape=(1, 352), dtype=object).\n",
      "Pickling array (shape=(1,), dtype=object).\n",
      "Pickling array (shape=(281,), dtype=int32).\n",
      "Pickling array (shape=(71,), dtype=int32).\n",
      "[Parallel(n_jobs=8)]: Done 264 tasks      | elapsed:    2.8s\n",
      "Pickling array (shape=(6,), dtype=object).\n",
      "Pickling array (shape=(352,), dtype=int64).\n",
      "Pickling array (shape=(6, 352), dtype=int64).\n",
      "Pickling array (shape=(6,), dtype=object).\n",
      "Pickling array (shape=(1,), dtype=object).\n",
      "Pickling array (shape=(352,), dtype=int64).\n",
      "Pickling array (shape=(1, 352), dtype=object).\n",
      "Pickling array (shape=(1,), dtype=object).\n",
      "Pickling array (shape=(281,), dtype=int32).\n",
      "Pickling array (shape=(71,), dtype=int32).\n",
      "[Parallel(n_jobs=8)]: Done 265 tasks      | elapsed:    2.8s\n",
      "Pickling array (shape=(6,), dtype=object).\n",
      "Pickling array (shape=(352,), dtype=int64).\n",
      "Pickling array (shape=(6, 352), dtype=int64).\n",
      "Pickling array (shape=(6,), dtype=object).\n",
      "Pickling array (shape=(1,), dtype=object).\n",
      "Pickling array (shape=(352,), dtype=int64).\n",
      "Pickling array (shape=(1, 352), dtype=object).\n",
      "Pickling array (shape=(1,), dtype=object).\n",
      "Pickling array (shape=(282,), dtype=int32).\n",
      "Pickling array (shape=(70,), dtype=int32).\n",
      "[Parallel(n_jobs=8)]: Done 266 tasks      | elapsed:    2.8s\n",
      "Pickling array (shape=(6,), dtype=object).\n",
      "Pickling array (shape=(352,), dtype=int64).\n",
      "Pickling array (shape=(6, 352), dtype=int64).\n",
      "Pickling array (shape=(6,), dtype=object).\n",
      "Pickling array (shape=(1,), dtype=object).\n",
      "Pickling array (shape=(352,), dtype=int64).\n",
      "Pickling array (shape=(1, 352), dtype=object).\n",
      "Pickling array (shape=(1,), dtype=object).\n",
      "Pickling array (shape=(282,), dtype=int32).\n",
      "Pickling array (shape=(70,), dtype=int32).\n",
      "[Parallel(n_jobs=8)]: Done 274 tasks      | elapsed:    2.8s\n",
      "Pickling array (shape=(6,), dtype=object).\n",
      "Pickling array (shape=(352,), dtype=int64).\n",
      "Pickling array (shape=(6, 352), dtype=int64).\n",
      "Pickling array (shape=(6,), dtype=object).\n",
      "Pickling array (shape=(1,), dtype=object).\n",
      "Pickling array (shape=(352,), dtype=int64).\n",
      "Pickling array (shape=(1, 352), dtype=object).\n",
      "Pickling array (shape=(1,), dtype=object).\n",
      "Pickling array (shape=(282,), dtype=int32).\n",
      "Pickling array (shape=(70,), dtype=int32).\n",
      "[Parallel(n_jobs=8)]: Done 275 tasks      | elapsed:    2.8s\n",
      "Pickling array (shape=(6,), dtype=object).\n",
      "Pickling array (shape=(352,), dtype=int64).\n",
      "Pickling array (shape=(6, 352), dtype=int64).\n",
      "Pickling array (shape=(6,), dtype=object).\n",
      "Pickling array (shape=(1,), dtype=object).\n",
      "Pickling array (shape=(352,), dtype=int64).\n",
      "Pickling array (shape=(1, 352), dtype=object).\n",
      "Pickling array (shape=(1,), dtype=object).\n",
      "Pickling array (shape=(281,), dtype=int32).\n",
      "Pickling array (shape=(71,), dtype=int32).\n",
      "[Parallel(n_jobs=8)]: Done 276 tasks      | elapsed:    2.9s\n",
      "Pickling array (shape=(6,), dtype=object).\n",
      "Pickling array (shape=(352,), dtype=int64).\n",
      "Pickling array (shape=(6, 352), dtype=int64).\n",
      "Pickling array (shape=(6,), dtype=object).\n",
      "Pickling array (shape=(1,), dtype=object).\n",
      "Pickling array (shape=(352,), dtype=int64).\n",
      "Pickling array (shape=(1, 352), dtype=object).\n",
      "Pickling array (shape=(1,), dtype=object).\n",
      "Pickling array (shape=(281,), dtype=int32).\n",
      "Pickling array (shape=(71,), dtype=int32).\n",
      "[Parallel(n_jobs=8)]: Done 277 tasks      | elapsed:    2.9s\n",
      "Pickling array (shape=(6,), dtype=object).\n",
      "Pickling array (shape=(352,), dtype=int64).\n",
      "Pickling array (shape=(6, 352), dtype=int64).\n",
      "Pickling array (shape=(6,), dtype=object).\n",
      "Pickling array (shape=(1,), dtype=object).\n",
      "Pickling array (shape=(352,), dtype=int64).\n",
      "Pickling array (shape=(1, 352), dtype=object).\n",
      "Pickling array (shape=(1,), dtype=object).\n",
      "Pickling array (shape=(282,), dtype=int32).\n",
      "Pickling array (shape=(70,), dtype=int32).\n",
      "[Parallel(n_jobs=8)]: Done 278 tasks      | elapsed:    2.9s\n",
      "Pickling array (shape=(6,), dtype=object).\n",
      "Pickling array (shape=(352,), dtype=int64).\n",
      "Pickling array (shape=(6, 352), dtype=int64).\n",
      "Pickling array (shape=(6,), dtype=object).\n",
      "Pickling array (shape=(1,), dtype=object).\n",
      "Pickling array (shape=(352,), dtype=int64).\n",
      "Pickling array (shape=(1, 352), dtype=object).\n",
      "Pickling array (shape=(1,), dtype=object).\n",
      "Pickling array (shape=(282,), dtype=int32).\n",
      "Pickling array (shape=(70,), dtype=int32).\n",
      "[Parallel(n_jobs=8)]: Done 279 tasks      | elapsed:    2.9s\n",
      "Pickling array (shape=(6,), dtype=object).\n",
      "Pickling array (shape=(352,), dtype=int64).\n",
      "Pickling array (shape=(6, 352), dtype=int64).\n",
      "Pickling array (shape=(6,), dtype=object).\n",
      "Pickling array (shape=(1,), dtype=object).\n",
      "Pickling array (shape=(352,), dtype=int64).\n",
      "Pickling array (shape=(1, 352), dtype=object).\n",
      "Pickling array (shape=(1,), dtype=object).\n",
      "Pickling array (shape=(282,), dtype=int32).\n",
      "Pickling array (shape=(70,), dtype=int32).\n",
      "[Parallel(n_jobs=8)]: Done 280 tasks      | elapsed:    2.9s\n"
     ]
    },
    {
     "name": "stdout",
     "output_type": "stream",
     "text": [
      "Pickling array (shape=(6,), dtype=object).\n",
      "Pickling array (shape=(352,), dtype=int64).\n",
      "Pickling array (shape=(6, 352), dtype=int64).\n",
      "Pickling array (shape=(6,), dtype=object).\n",
      "Pickling array (shape=(1,), dtype=object).\n",
      "Pickling array (shape=(352,), dtype=int64).\n",
      "Pickling array (shape=(1, 352), dtype=object).\n",
      "Pickling array (shape=(1,), dtype=object).\n",
      "Pickling array (shape=(281,), dtype=int32).\n",
      "Pickling array (shape=(71,), dtype=int32).\n",
      "[Parallel(n_jobs=8)]: Done 281 tasks      | elapsed:    2.9s\n",
      "Pickling array (shape=(6,), dtype=object).\n",
      "Pickling array (shape=(352,), dtype=int64).\n",
      "Pickling array (shape=(6, 352), dtype=int64).\n",
      "Pickling array (shape=(6,), dtype=object).\n",
      "Pickling array (shape=(1,), dtype=object).\n",
      "Pickling array (shape=(352,), dtype=int64).\n",
      "Pickling array (shape=(1, 352), dtype=object).\n",
      "Pickling array (shape=(1,), dtype=object).\n",
      "Pickling array (shape=(281,), dtype=int32).\n",
      "Pickling array (shape=(71,), dtype=int32).\n",
      "[Parallel(n_jobs=8)]: Done 282 tasks      | elapsed:    2.9s\n",
      "Pickling array (shape=(6,), dtype=object).\n",
      "Pickling array (shape=(352,), dtype=int64).\n",
      "Pickling array (shape=(6, 352), dtype=int64).\n",
      "Pickling array (shape=(6,), dtype=object).\n",
      "Pickling array (shape=(1,), dtype=object).\n",
      "Pickling array (shape=(352,), dtype=int64).\n",
      "Pickling array (shape=(1, 352), dtype=object).\n",
      "Pickling array (shape=(1,), dtype=object).\n",
      "Pickling array (shape=(282,), dtype=int32).\n",
      "Pickling array (shape=(70,), dtype=int32).\n",
      "[Parallel(n_jobs=8)]: Done 283 tasks      | elapsed:    2.9s\n",
      "Pickling array (shape=(6,), dtype=object).\n",
      "Pickling array (shape=(352,), dtype=int64).\n",
      "Pickling array (shape=(6, 352), dtype=int64).\n",
      "Pickling array (shape=(6,), dtype=object).\n",
      "Pickling array (shape=(1,), dtype=object).\n",
      "Pickling array (shape=(352,), dtype=int64).\n",
      "Pickling array (shape=(1, 352), dtype=object).\n",
      "Pickling array (shape=(1,), dtype=object).\n",
      "Pickling array (shape=(282,), dtype=int32).\n",
      "Pickling array (shape=(70,), dtype=int32).\n",
      "[Parallel(n_jobs=8)]: Done 284 tasks      | elapsed:    2.9s\n",
      "Pickling array (shape=(6,), dtype=object).\n",
      "Pickling array (shape=(352,), dtype=int64).\n",
      "Pickling array (shape=(6, 352), dtype=int64).\n",
      "Pickling array (shape=(6,), dtype=object).\n",
      "Pickling array (shape=(1,), dtype=object).\n",
      "Pickling array (shape=(352,), dtype=int64).\n",
      "Pickling array (shape=(1, 352), dtype=object).\n",
      "Pickling array (shape=(1,), dtype=object).\n",
      "Pickling array (shape=(282,), dtype=int32).\n",
      "Pickling array (shape=(70,), dtype=int32).\n",
      "[Parallel(n_jobs=8)]: Done 285 tasks      | elapsed:    2.9s\n",
      "Pickling array (shape=(6,), dtype=object).\n",
      "Pickling array (shape=(352,), dtype=int64).\n",
      "Pickling array (shape=(6, 352), dtype=int64).\n",
      "Pickling array (shape=(6,), dtype=object).\n",
      "Pickling array (shape=(1,), dtype=object).\n",
      "Pickling array (shape=(352,), dtype=int64).\n",
      "Pickling array (shape=(1, 352), dtype=object).\n",
      "Pickling array (shape=(1,), dtype=object).\n",
      "Pickling array (shape=(281,), dtype=int32).\n",
      "Pickling array (shape=(71,), dtype=int32).\n",
      "[Parallel(n_jobs=8)]: Done 286 tasks      | elapsed:    2.9s\n",
      "Pickling array (shape=(6,), dtype=object).\n",
      "Pickling array (shape=(352,), dtype=int64).\n",
      "Pickling array (shape=(6, 352), dtype=int64).\n",
      "Pickling array (shape=(6,), dtype=object).\n",
      "Pickling array (shape=(1,), dtype=object).\n",
      "Pickling array (shape=(352,), dtype=int64).\n",
      "Pickling array (shape=(1, 352), dtype=object).\n",
      "Pickling array (shape=(1,), dtype=object).\n",
      "Pickling array (shape=(281,), dtype=int32).\n",
      "Pickling array (shape=(71,), dtype=int32).\n",
      "[Parallel(n_jobs=8)]: Done 287 tasks      | elapsed:    3.0s\n",
      "Pickling array (shape=(6,), dtype=object).\n",
      "Pickling array (shape=(352,), dtype=int64).\n",
      "Pickling array (shape=(6, 352), dtype=int64).\n",
      "Pickling array (shape=(6,), dtype=object).\n",
      "Pickling array (shape=(1,), dtype=object).\n",
      "Pickling array (shape=(352,), dtype=int64).\n",
      "Pickling array (shape=(1, 352), dtype=object).\n",
      "Pickling array (shape=(1,), dtype=object).\n",
      "Pickling array (shape=(282,), dtype=int32).\n",
      "Pickling array (shape=(70,), dtype=int32).\n",
      "[Parallel(n_jobs=8)]: Done 288 tasks      | elapsed:    3.0s\n",
      "Pickling array (shape=(6,), dtype=object).\n",
      "Pickling array (shape=(352,), dtype=int64).[Parallel(n_jobs=8)]: Done 289 tasks      | elapsed:    3.0s\n",
      "\n",
      "Pickling array (shape=(6, 352), dtype=int64).\n",
      "Pickling array (shape=(6,), dtype=object).\n",
      "Pickling array (shape=(1,), dtype=object).[Parallel(n_jobs=8)]: Done 290 tasks      | elapsed:    3.0s\n",
      "\n",
      "Pickling array (shape=(352,), dtype=int64).\n",
      "Pickling array (shape=(1, 352), dtype=object).\n",
      "Pickling array (shape=(1,), dtype=object).\n",
      "Pickling array (shape=(282,), dtype=int32).\n",
      "Pickling array (shape=(70,), dtype=int32).\n",
      "Pickling array (shape=(6,), dtype=object).\n",
      "[Parallel(n_jobs=8)]: Done 291 tasks      | elapsed:    3.0s\n",
      "Pickling array (shape=(352,), dtype=int64).\n",
      "Pickling array (shape=(6, 352), dtype=int64).\n",
      "Pickling array (shape=(6,), dtype=object).\n",
      "Pickling array (shape=(1,), dtype=object).\n",
      "Pickling array (shape=(352,), dtype=int64).\n",
      "Pickling array (shape=(1, 352), dtype=object).\n",
      "Pickling array (shape=(1,), dtype=object).\n",
      "Pickling array (shape=(282,), dtype=int32).\n",
      "Pickling array (shape=(70,), dtype=int32).\n",
      "Pickling array (shape=(6,), dtype=object).\n",
      "Pickling array (shape=(352,), dtype=int64).\n",
      "Pickling array (shape=(6, 352), dtype=int64).\n",
      "Pickling array (shape=(6,), dtype=object).\n",
      "Pickling array (shape=(1,), dtype=object).\n",
      "Pickling array (shape=(352,), dtype=int64).\n",
      "Pickling array (shape=(1, 352), dtype=object).\n",
      "Pickling array (shape=(1,), dtype=object).\n",
      "Pickling array (shape=(281,), dtype=int32).\n",
      "Pickling array (shape=(71,), dtype=int32).\n",
      "Pickling array (shape=(6,), dtype=object).\n",
      "Pickling array (shape=(352,), dtype=int64).\n",
      "Pickling array (shape=(6, 352), dtype=int64).\n",
      "Pickling array (shape=(6,), dtype=object).\n",
      "Pickling array (shape=(1,), dtype=object).\n",
      "Pickling array (shape=(352,), dtype=int64).\n",
      "Pickling array (shape=(1, 352), dtype=object).\n",
      "Pickling array (shape=(1,), dtype=object).\n",
      "Pickling array (shape=(281,), dtype=int32).\n",
      "Pickling array (shape=(71,), dtype=int32).\n",
      "[Parallel(n_jobs=8)]: Done 292 tasks      | elapsed:    3.0s\n",
      "Pickling array (shape=(6,), dtype=object).\n",
      "Pickling array (shape=(352,), dtype=int64).\n",
      "[Parallel(n_jobs=8)]: Done 293 tasks      | elapsed:    3.0s\n",
      "Pickling array (shape=(6, 352), dtype=int64).\n",
      "Pickling array (shape=(6,), dtype=object).\n",
      "Pickling array (shape=(1,), dtype=object).[Parallel(n_jobs=8)]: Done 294 tasks      | elapsed:    3.0s\n",
      "\n",
      "Pickling array (shape=(352,), dtype=int64).\n",
      "Pickling array (shape=(1, 352), dtype=object).\n",
      "Pickling array (shape=(1,), dtype=object).\n",
      "Pickling array (shape=(282,), dtype=int32).\n",
      "Pickling array (shape=(70,), dtype=int32).\n",
      "Pickling array (shape=(6,), dtype=object).\n",
      "Pickling array (shape=(352,), dtype=int64).\n",
      "Pickling array (shape=(6, 352), dtype=int64).\n",
      "Pickling array (shape=(6,), dtype=object).\n",
      "Pickling array (shape=(1,), dtype=object).\n",
      "Pickling array (shape=(352,), dtype=int64).\n",
      "Pickling array (shape=(1, 352), dtype=object).\n",
      "Pickling array (shape=(1,), dtype=object).\n",
      "Pickling array (shape=(282,), dtype=int32).\n",
      "Pickling array (shape=(70,), dtype=int32).\n",
      "Pickling array (shape=(6,), dtype=object).\n",
      "Pickling array (shape=(352,), dtype=int64).\n",
      "Pickling array (shape=(6, 352), dtype=int64).\n",
      "Pickling array (shape=(6,), dtype=object).\n",
      "Pickling array (shape=(1,), dtype=object).\n",
      "[Parallel(n_jobs=8)]: Done 295 tasks      | elapsed:    3.0s\n",
      "Pickling array (shape=(352,), dtype=int64).\n",
      "Pickling array (shape=(1, 352), dtype=object).\n",
      "Pickling array (shape=(1,), dtype=object).\n",
      "Pickling array (shape=(282,), dtype=int32).\n",
      "Pickling array (shape=(70,), dtype=int32).\n",
      "[Parallel(n_jobs=8)]: Done 296 tasks      | elapsed:    3.0s\n",
      "Pickling array (shape=(6,), dtype=object).\n",
      "Pickling array (shape=(352,), dtype=int64).\n",
      "Pickling array (shape=(6, 352), dtype=int64).\n",
      "Pickling array (shape=(6,), dtype=object).\n",
      "Pickling array (shape=(1,), dtype=object).\n",
      "Pickling array (shape=(352,), dtype=int64).\n",
      "Pickling array (shape=(1, 352), dtype=object).\n",
      "Pickling array (shape=(1,), dtype=object).\n",
      "Pickling array (shape=(281,), dtype=int32).\n",
      "Pickling array (shape=(71,), dtype=int32).\n",
      "Pickling array (shape=(6,), dtype=object).\n",
      "Pickling array (shape=(352,), dtype=int64).\n",
      "Pickling array (shape=(6, 352), dtype=int64).\n",
      "Pickling array (shape=(6,), dtype=object).\n",
      "Pickling array (shape=(1,), dtype=object).\n",
      "Pickling array (shape=(352,), dtype=int64).\n",
      "Pickling array (shape=(1, 352), dtype=object).\n",
      "Pickling array (shape=(1,), dtype=object).\n",
      "Pickling array (shape=(281,), dtype=int32).\n",
      "Pickling array (shape=(71,), dtype=int32).\n",
      "[Parallel(n_jobs=8)]: Done 297 tasks      | elapsed:    3.0s\n",
      "Pickling array (shape=(6,), dtype=object).\n",
      "Pickling array (shape=(352,), dtype=int64).\n",
      "Pickling array (shape=(6, 352), dtype=int64).\n",
      "Pickling array (shape=(6,), dtype=object).\n",
      "Pickling array (shape=(1,), dtype=object).\n",
      "Pickling array (shape=(352,), dtype=int64).\n",
      "Pickling array (shape=(1, 352), dtype=object).\n",
      "Pickling array (shape=(1,), dtype=object).\n",
      "Pickling array (shape=(282,), dtype=int32).\n",
      "Pickling array (shape=(70,), dtype=int32).\n",
      "[Parallel(n_jobs=8)]: Done 298 tasks      | elapsed:    3.1s\n",
      "Pickling array (shape=(6,), dtype=object).\n",
      "Pickling array (shape=(352,), dtype=int64).\n",
      "Pickling array (shape=(6, 352), dtype=int64).\n",
      "Pickling array (shape=(6,), dtype=object).\n",
      "Pickling array (shape=(1,), dtype=object).\n",
      "Pickling array (shape=(352,), dtype=int64).\n",
      "Pickling array (shape=(1, 352), dtype=object).\n",
      "Pickling array (shape=(1,), dtype=object).\n",
      "Pickling array (shape=(282,), dtype=int32).\n",
      "Pickling array (shape=(70,), dtype=int32).\n",
      "[Parallel(n_jobs=8)]: Done 299 tasks      | elapsed:    3.1s\n",
      "Pickling array (shape=(6,), dtype=object).\n",
      "Pickling array (shape=(352,), dtype=int64).\n",
      "Pickling array (shape=(6, 352), dtype=int64).\n",
      "Pickling array (shape=(6,), dtype=object).\n",
      "Pickling array (shape=(1,), dtype=object).\n",
      "Pickling array (shape=(352,), dtype=int64).\n",
      "Pickling array (shape=(1, 352), dtype=object).\n",
      "Pickling array (shape=(1,), dtype=object).\n",
      "Pickling array (shape=(282,), dtype=int32).\n",
      "Pickling array (shape=(70,), dtype=int32).\n",
      "[Parallel(n_jobs=8)]: Done 300 tasks      | elapsed:    3.1s\n",
      "Pickling array (shape=(6,), dtype=object).\n",
      "Pickling array (shape=(352,), dtype=int64).\n",
      "Pickling array (shape=(6, 352), dtype=int64).\n",
      "Pickling array (shape=(6,), dtype=object).\n",
      "Pickling array (shape=(1,), dtype=object).\n",
      "[Parallel(n_jobs=8)]: Done 301 tasks      | elapsed:    3.1s\n",
      "Pickling array (shape=(352,), dtype=int64).\n",
      "Pickling array (shape=(1, 352), dtype=object).\n",
      "Pickling array (shape=(1,), dtype=object).\n",
      "Pickling array (shape=(281,), dtype=int32).\n",
      "Pickling array (shape=(71,), dtype=int32).\n",
      "[Parallel(n_jobs=8)]: Done 302 tasks      | elapsed:    3.1s\n",
      "Pickling array (shape=(6,), dtype=object).\n",
      "Pickling array (shape=(352,), dtype=int64).\n",
      "Pickling array (shape=(6, 352), dtype=int64).\n",
      "Pickling array (shape=(6,), dtype=object).\n"
     ]
    },
    {
     "name": "stdout",
     "output_type": "stream",
     "text": [
      "Pickling array (shape=(1,), dtype=object).\n",
      "Pickling array (shape=(352,), dtype=int64).\n",
      "Pickling array (shape=(1, 352), dtype=object).\n",
      "Pickling array (shape=(1,), dtype=object).\n",
      "Pickling array (shape=(281,), dtype=int32).\n",
      "Pickling array (shape=(71,), dtype=int32).\n",
      "Pickling array (shape=(6,), dtype=object).\n",
      "Pickling array (shape=(352,), dtype=int64).\n",
      "Pickling array (shape=(6, 352), dtype=int64).\n",
      "Pickling array (shape=(6,), dtype=object).\n",
      "Pickling array (shape=(1,), dtype=object).\n",
      "Pickling array (shape=(352,), dtype=int64).\n",
      "Pickling array (shape=(1, 352), dtype=object).\n",
      "Pickling array (shape=(1,), dtype=object).\n",
      "Pickling array (shape=(282,), dtype=int32).\n",
      "Pickling array (shape=(70,), dtype=int32).\n",
      "[Parallel(n_jobs=8)]: Done 303 tasks      | elapsed:    3.1s\n",
      "Pickling array (shape=(6,), dtype=object).\n",
      "Pickling array (shape=(352,), dtype=int64).\n",
      "Pickling array (shape=(6, 352), dtype=int64).\n",
      "Pickling array (shape=(6,), dtype=object).\n",
      "Pickling array (shape=(1,), dtype=object).\n",
      "Pickling array (shape=(352,), dtype=int64).\n",
      "Pickling array (shape=(1, 352), dtype=object).\n",
      "Pickling array (shape=(1,), dtype=object).\n",
      "Pickling array (shape=(282,), dtype=int32).\n",
      "Pickling array (shape=(70,), dtype=int32).\n",
      "[Parallel(n_jobs=8)]: Done 304 tasks      | elapsed:    3.1s\n",
      "Pickling array (shape=(6,), dtype=object).\n",
      "Pickling array (shape=(352,), dtype=int64).\n",
      "Pickling array (shape=(6, 352), dtype=int64).\n",
      "Pickling array (shape=(6,), dtype=object).\n",
      "Pickling array (shape=(1,), dtype=object).\n",
      "Pickling array (shape=(352,), dtype=int64).\n",
      "Pickling array (shape=(1, 352), dtype=object).\n",
      "Pickling array (shape=(1,), dtype=object).\n",
      "Pickling array (shape=(282,), dtype=int32).\n",
      "Pickling array (shape=(70,), dtype=int32).\n",
      "[Parallel(n_jobs=8)]: Done 305 tasks      | elapsed:    3.1s\n",
      "[Parallel(n_jobs=8)]: Done 309 out of 320 | elapsed:    3.1s remaining:    0.0s\n",
      "[Parallel(n_jobs=8)]: Done 313 out of 320 | elapsed:    3.1s remaining:    0.0s\n",
      "[Parallel(n_jobs=8)]: Done 317 out of 320 | elapsed:    3.1s remaining:    0.0s\n",
      "[Parallel(n_jobs=8)]: Done 320 out of 320 | elapsed:    3.1s finished\n"
     ]
    },
    {
     "name": "stderr",
     "output_type": "stream",
     "text": [
      "C:\\Users\\tzwth\\Anaconda3\\envs\\ai\\lib\\site-packages\\sklearn\\ensemble\\_gb.py:1454: DataConversionWarning: A column-vector y was passed when a 1d array was expected. Please change the shape of y to (n_samples, ), for example using ravel().\n",
      "  y = column_or_1d(y, warn=True)\n"
     ]
    },
    {
     "ename": "ValueError",
     "evalue": "Loss 'ls' not supported. ",
     "output_type": "error",
     "traceback": [
      "\u001b[1;31m---------------------------------------------------------------------------\u001b[0m",
      "\u001b[1;31mValueError\u001b[0m                                Traceback (most recent call last)",
      "\u001b[1;32m<ipython-input-26-32ae2094cb3a>\u001b[0m in \u001b[0;36m<module>\u001b[1;34m\u001b[0m\n\u001b[0;32m      1\u001b[0m \u001b[1;31m# Run the grid search with training data\u001b[0m\u001b[1;33m\u001b[0m\u001b[1;33m\u001b[0m\u001b[1;33m\u001b[0m\u001b[0m\n\u001b[1;32m----> 2\u001b[1;33m \u001b[0mgs_cv\u001b[0m\u001b[1;33m.\u001b[0m\u001b[0mfit\u001b[0m\u001b[1;33m(\u001b[0m\u001b[0mX_train\u001b[0m\u001b[1;33m,\u001b[0m \u001b[0my_train\u001b[0m\u001b[1;33m)\u001b[0m\u001b[1;33m\u001b[0m\u001b[1;33m\u001b[0m\u001b[0m\n\u001b[0m",
      "\u001b[1;32m~\\Anaconda3\\envs\\ai\\lib\\site-packages\\sklearn\\model_selection\\_search.py\u001b[0m in \u001b[0;36mfit\u001b[1;34m(self, X, y, groups, **fit_params)\u001b[0m\n\u001b[0;32m    737\u001b[0m             \u001b[0mrefit_start_time\u001b[0m \u001b[1;33m=\u001b[0m \u001b[0mtime\u001b[0m\u001b[1;33m.\u001b[0m\u001b[0mtime\u001b[0m\u001b[1;33m(\u001b[0m\u001b[1;33m)\u001b[0m\u001b[1;33m\u001b[0m\u001b[1;33m\u001b[0m\u001b[0m\n\u001b[0;32m    738\u001b[0m             \u001b[1;32mif\u001b[0m \u001b[0my\u001b[0m \u001b[1;32mis\u001b[0m \u001b[1;32mnot\u001b[0m \u001b[1;32mNone\u001b[0m\u001b[1;33m:\u001b[0m\u001b[1;33m\u001b[0m\u001b[1;33m\u001b[0m\u001b[0m\n\u001b[1;32m--> 739\u001b[1;33m                 \u001b[0mself\u001b[0m\u001b[1;33m.\u001b[0m\u001b[0mbest_estimator_\u001b[0m\u001b[1;33m.\u001b[0m\u001b[0mfit\u001b[0m\u001b[1;33m(\u001b[0m\u001b[0mX\u001b[0m\u001b[1;33m,\u001b[0m \u001b[0my\u001b[0m\u001b[1;33m,\u001b[0m \u001b[1;33m**\u001b[0m\u001b[0mfit_params\u001b[0m\u001b[1;33m)\u001b[0m\u001b[1;33m\u001b[0m\u001b[1;33m\u001b[0m\u001b[0m\n\u001b[0m\u001b[0;32m    740\u001b[0m             \u001b[1;32melse\u001b[0m\u001b[1;33m:\u001b[0m\u001b[1;33m\u001b[0m\u001b[1;33m\u001b[0m\u001b[0m\n\u001b[0;32m    741\u001b[0m                 \u001b[0mself\u001b[0m\u001b[1;33m.\u001b[0m\u001b[0mbest_estimator_\u001b[0m\u001b[1;33m.\u001b[0m\u001b[0mfit\u001b[0m\u001b[1;33m(\u001b[0m\u001b[0mX\u001b[0m\u001b[1;33m,\u001b[0m \u001b[1;33m**\u001b[0m\u001b[0mfit_params\u001b[0m\u001b[1;33m)\u001b[0m\u001b[1;33m\u001b[0m\u001b[1;33m\u001b[0m\u001b[0m\n",
      "\u001b[1;32m~\\Anaconda3\\envs\\ai\\lib\\site-packages\\sklearn\\ensemble\\_gb.py\u001b[0m in \u001b[0;36mfit\u001b[1;34m(self, X, y, sample_weight, monitor)\u001b[0m\n\u001b[0;32m   1476\u001b[0m             \u001b[0mX_val\u001b[0m \u001b[1;33m=\u001b[0m \u001b[0my_val\u001b[0m \u001b[1;33m=\u001b[0m \u001b[0msample_weight_val\u001b[0m \u001b[1;33m=\u001b[0m \u001b[1;32mNone\u001b[0m\u001b[1;33m\u001b[0m\u001b[1;33m\u001b[0m\u001b[0m\n\u001b[0;32m   1477\u001b[0m \u001b[1;33m\u001b[0m\u001b[0m\n\u001b[1;32m-> 1478\u001b[1;33m         \u001b[0mself\u001b[0m\u001b[1;33m.\u001b[0m\u001b[0m_check_params\u001b[0m\u001b[1;33m(\u001b[0m\u001b[1;33m)\u001b[0m\u001b[1;33m\u001b[0m\u001b[1;33m\u001b[0m\u001b[0m\n\u001b[0m\u001b[0;32m   1479\u001b[0m \u001b[1;33m\u001b[0m\u001b[0m\n\u001b[0;32m   1480\u001b[0m         \u001b[1;32mif\u001b[0m \u001b[1;32mnot\u001b[0m \u001b[0mself\u001b[0m\u001b[1;33m.\u001b[0m\u001b[0m_is_initialized\u001b[0m\u001b[1;33m(\u001b[0m\u001b[1;33m)\u001b[0m\u001b[1;33m:\u001b[0m\u001b[1;33m\u001b[0m\u001b[1;33m\u001b[0m\u001b[0m\n",
      "\u001b[1;32m~\\Anaconda3\\envs\\ai\\lib\\site-packages\\sklearn\\ensemble\\_gb.py\u001b[0m in \u001b[0;36m_check_params\u001b[1;34m(self)\u001b[0m\n\u001b[0;32m   1267\u001b[0m         if (self.loss not in self._SUPPORTED_LOSS\n\u001b[0;32m   1268\u001b[0m                 or self.loss not in _gb_losses.LOSS_FUNCTIONS):\n\u001b[1;32m-> 1269\u001b[1;33m             \u001b[1;32mraise\u001b[0m \u001b[0mValueError\u001b[0m\u001b[1;33m(\u001b[0m\u001b[1;34m\"Loss '{0:s}' not supported. \"\u001b[0m\u001b[1;33m.\u001b[0m\u001b[0mformat\u001b[0m\u001b[1;33m(\u001b[0m\u001b[0mself\u001b[0m\u001b[1;33m.\u001b[0m\u001b[0mloss\u001b[0m\u001b[1;33m)\u001b[0m\u001b[1;33m)\u001b[0m\u001b[1;33m\u001b[0m\u001b[1;33m\u001b[0m\u001b[0m\n\u001b[0m\u001b[0;32m   1270\u001b[0m \u001b[1;33m\u001b[0m\u001b[0m\n\u001b[0;32m   1271\u001b[0m         \u001b[1;32mif\u001b[0m \u001b[0mself\u001b[0m\u001b[1;33m.\u001b[0m\u001b[0mloss\u001b[0m \u001b[1;33m==\u001b[0m \u001b[1;34m'deviance'\u001b[0m\u001b[1;33m:\u001b[0m\u001b[1;33m\u001b[0m\u001b[1;33m\u001b[0m\u001b[0m\n",
      "\u001b[1;31mValueError\u001b[0m: Loss 'ls' not supported. "
     ]
    }
   ],
   "source": [
    "# Run the grid search with training data\n",
    "gs_cv.fit(X_train, y_train)"
   ]
  },
  {
   "cell_type": "code",
   "execution_count": 29,
   "metadata": {},
   "outputs": [
    {
     "name": "stdout",
     "output_type": "stream",
     "text": [
      "{'learning_rate': 0.1, 'loss': 'ls', 'max_depth': 4, 'max_features': 1.0, 'min_samples_leaf': 1, 'n_estimators': 50}\n"
     ]
    }
   ],
   "source": [
    "#Printing best parameters\n",
    "print(gs_cv.best_params_)"
   ]
  },
  {
   "cell_type": "markdown",
   "metadata": {},
   "source": [
    "**Feature importance**"
   ]
  },
  {
   "cell_type": "code",
   "execution_count": 76,
   "metadata": {},
   "outputs": [
    {
     "ename": "NotFittedError",
     "evalue": "This GradientBoostingClassifier instance is not fitted yet. Call 'fit' with appropriate arguments before using this estimator.",
     "output_type": "error",
     "traceback": [
      "\u001b[1;31m---------------------------------------------------------------------------\u001b[0m",
      "\u001b[1;31mNotFittedError\u001b[0m                            Traceback (most recent call last)",
      "\u001b[1;32m<ipython-input-76-a77b5a453b57>\u001b[0m in \u001b[0;36m<module>\u001b[1;34m\u001b[0m\n\u001b[0;32m      1\u001b[0m \u001b[1;31m#Visualize impotance features\u001b[0m\u001b[1;33m\u001b[0m\u001b[1;33m\u001b[0m\u001b[1;33m\u001b[0m\u001b[0m\n\u001b[1;32m----> 2\u001b[1;33m \u001b[0mfeat_importances\u001b[0m\u001b[1;33m=\u001b[0m\u001b[0mpd\u001b[0m\u001b[1;33m.\u001b[0m\u001b[0mSeries\u001b[0m\u001b[1;33m(\u001b[0m\u001b[0mgb_clf\u001b[0m\u001b[1;33m.\u001b[0m\u001b[0mfeature_importances_\u001b[0m\u001b[1;33m,\u001b[0m\u001b[0mindex\u001b[0m\u001b[1;33m=\u001b[0m\u001b[0mdf_features\u001b[0m\u001b[1;33m.\u001b[0m\u001b[0mcolumns\u001b[0m\u001b[1;33m)\u001b[0m\u001b[1;33m\u001b[0m\u001b[1;33m\u001b[0m\u001b[0m\n\u001b[0m\u001b[0;32m      3\u001b[0m \u001b[0mfeat_importances\u001b[0m\u001b[1;33m.\u001b[0m\u001b[0mnlargest\u001b[0m\u001b[1;33m(\u001b[0m\u001b[1;36m6\u001b[0m\u001b[1;33m)\u001b[0m\u001b[1;33m.\u001b[0m\u001b[0mplot\u001b[0m\u001b[1;33m(\u001b[0m\u001b[0mkind\u001b[0m\u001b[1;33m=\u001b[0m\u001b[1;34m\"barh\"\u001b[0m\u001b[1;33m)\u001b[0m\u001b[1;33m\u001b[0m\u001b[1;33m\u001b[0m\u001b[0m\n\u001b[0;32m      4\u001b[0m \u001b[0mplt\u001b[0m\u001b[1;33m.\u001b[0m\u001b[0mshow\u001b[0m\u001b[1;33m(\u001b[0m\u001b[1;33m)\u001b[0m\u001b[1;33m\u001b[0m\u001b[1;33m\u001b[0m\u001b[0m\n",
      "\u001b[1;32m~\\Anaconda3\\envs\\ai\\lib\\site-packages\\sklearn\\ensemble\\_gb.py\u001b[0m in \u001b[0;36mfeature_importances_\u001b[1;34m(self)\u001b[0m\n\u001b[0;32m   1698\u001b[0m             \u001b[0marray\u001b[0m \u001b[0mof\u001b[0m \u001b[0mzeros\u001b[0m\u001b[1;33m.\u001b[0m\u001b[1;33m\u001b[0m\u001b[1;33m\u001b[0m\u001b[0m\n\u001b[0;32m   1699\u001b[0m         \"\"\"\n\u001b[1;32m-> 1700\u001b[1;33m         \u001b[0mself\u001b[0m\u001b[1;33m.\u001b[0m\u001b[0m_check_initialized\u001b[0m\u001b[1;33m(\u001b[0m\u001b[1;33m)\u001b[0m\u001b[1;33m\u001b[0m\u001b[1;33m\u001b[0m\u001b[0m\n\u001b[0m\u001b[0;32m   1701\u001b[0m \u001b[1;33m\u001b[0m\u001b[0m\n\u001b[0;32m   1702\u001b[0m         relevant_trees = [tree\n",
      "\u001b[1;32m~\\Anaconda3\\envs\\ai\\lib\\site-packages\\sklearn\\ensemble\\_gb.py\u001b[0m in \u001b[0;36m_check_initialized\u001b[1;34m(self)\u001b[0m\n\u001b[0;32m   1395\u001b[0m     \u001b[1;32mdef\u001b[0m \u001b[0m_check_initialized\u001b[0m\u001b[1;33m(\u001b[0m\u001b[0mself\u001b[0m\u001b[1;33m)\u001b[0m\u001b[1;33m:\u001b[0m\u001b[1;33m\u001b[0m\u001b[1;33m\u001b[0m\u001b[0m\n\u001b[0;32m   1396\u001b[0m         \u001b[1;34m\"\"\"Check that the estimator is initialized, raising an error if not.\"\"\"\u001b[0m\u001b[1;33m\u001b[0m\u001b[1;33m\u001b[0m\u001b[0m\n\u001b[1;32m-> 1397\u001b[1;33m         \u001b[0mcheck_is_fitted\u001b[0m\u001b[1;33m(\u001b[0m\u001b[0mself\u001b[0m\u001b[1;33m)\u001b[0m\u001b[1;33m\u001b[0m\u001b[1;33m\u001b[0m\u001b[0m\n\u001b[0m\u001b[0;32m   1398\u001b[0m \u001b[1;33m\u001b[0m\u001b[0m\n\u001b[0;32m   1399\u001b[0m     \u001b[1;32mdef\u001b[0m \u001b[0mfit\u001b[0m\u001b[1;33m(\u001b[0m\u001b[0mself\u001b[0m\u001b[1;33m,\u001b[0m \u001b[0mX\u001b[0m\u001b[1;33m,\u001b[0m \u001b[0my\u001b[0m\u001b[1;33m,\u001b[0m \u001b[0msample_weight\u001b[0m\u001b[1;33m=\u001b[0m\u001b[1;32mNone\u001b[0m\u001b[1;33m,\u001b[0m \u001b[0mmonitor\u001b[0m\u001b[1;33m=\u001b[0m\u001b[1;32mNone\u001b[0m\u001b[1;33m)\u001b[0m\u001b[1;33m:\u001b[0m\u001b[1;33m\u001b[0m\u001b[1;33m\u001b[0m\u001b[0m\n",
      "\u001b[1;32m~\\Anaconda3\\envs\\ai\\lib\\site-packages\\sklearn\\utils\\validation.py\u001b[0m in \u001b[0;36mcheck_is_fitted\u001b[1;34m(estimator, attributes, msg, all_or_any)\u001b[0m\n\u001b[0;32m    965\u001b[0m \u001b[1;33m\u001b[0m\u001b[0m\n\u001b[0;32m    966\u001b[0m     \u001b[1;32mif\u001b[0m \u001b[1;32mnot\u001b[0m \u001b[0mattrs\u001b[0m\u001b[1;33m:\u001b[0m\u001b[1;33m\u001b[0m\u001b[1;33m\u001b[0m\u001b[0m\n\u001b[1;32m--> 967\u001b[1;33m         \u001b[1;32mraise\u001b[0m \u001b[0mNotFittedError\u001b[0m\u001b[1;33m(\u001b[0m\u001b[0mmsg\u001b[0m \u001b[1;33m%\u001b[0m \u001b[1;33m{\u001b[0m\u001b[1;34m'name'\u001b[0m\u001b[1;33m:\u001b[0m \u001b[0mtype\u001b[0m\u001b[1;33m(\u001b[0m\u001b[0mestimator\u001b[0m\u001b[1;33m)\u001b[0m\u001b[1;33m.\u001b[0m\u001b[0m__name__\u001b[0m\u001b[1;33m}\u001b[0m\u001b[1;33m)\u001b[0m\u001b[1;33m\u001b[0m\u001b[1;33m\u001b[0m\u001b[0m\n\u001b[0m\u001b[0;32m    968\u001b[0m \u001b[1;33m\u001b[0m\u001b[0m\n\u001b[0;32m    969\u001b[0m \u001b[1;33m\u001b[0m\u001b[0m\n",
      "\u001b[1;31mNotFittedError\u001b[0m: This GradientBoostingClassifier instance is not fitted yet. Call 'fit' with appropriate arguments before using this estimator."
     ]
    }
   ],
   "source": [
    "#Visualize impotance features\n",
    "feat_importances=pd.Series(gb_clf.feature_importances_,index=df_features.columns)\n",
    "feat_importances.nlargest(6).plot(kind=\"barh\")\n",
    "plt.show()"
   ]
  },
  {
   "cell_type": "code",
   "execution_count": 35,
   "metadata": {},
   "outputs": [
    {
     "name": "stdout",
     "output_type": "stream",
     "text": [
      "[0.04236188 0.08981583 0.064672   0.04294902 0.73686847 0.02333281]\n"
     ]
    }
   ],
   "source": [
    "print(gb_clf.feature_importances_)"
   ]
  },
  {
   "cell_type": "markdown",
   "metadata": {},
   "source": [
    "- The Feature \"Detergent_Paper\" has been given the highest importance score and \"Fresh\" has given the lowest impotance among all features"
   ]
  },
  {
   "cell_type": "code",
   "execution_count": 66,
   "metadata": {},
   "outputs": [],
   "source": [
    "X = array[:,2:8]"
   ]
  },
  {
   "cell_type": "code",
   "execution_count": 67,
   "metadata": {},
   "outputs": [
    {
     "data": {
      "text/plain": [
       "array([9656, 7561, 214, 2674, 1338], dtype=object)"
      ]
     },
     "execution_count": 67,
     "metadata": {},
     "output_type": "execute_result"
    }
   ],
   "source": [
    "X[0]"
   ]
  },
  {
   "cell_type": "code",
   "execution_count": null,
   "metadata": {},
   "outputs": [],
   "source": [
    "#Exclude 'Fresh' and 'Frezon' in features\n",
    "#df_features=df.loc[:,['Milk','Grocery','Detergents_Paper','Delicassen']]  \n",
    "#df_features.shape"
   ]
  },
  {
   "cell_type": "code",
   "execution_count": 68,
   "metadata": {},
   "outputs": [
    {
     "data": {
      "text/plain": [
       "GradientBoostingClassifier(ccp_alpha=0.0, criterion='friedman_mse', init=None,\n",
       "                           learning_rate=0.1, loss='deviance', max_depth=4,\n",
       "                           max_features=1.0, max_leaf_nodes=None,\n",
       "                           min_impurity_decrease=0.0, min_impurity_split=None,\n",
       "                           min_samples_leaf=1, min_samples_split=2,\n",
       "                           min_weight_fraction_leaf=0.0, n_estimators=50,\n",
       "                           n_iter_no_change=None, presort='deprecated',\n",
       "                           random_state=None, subsample=1.0, tol=0.0001,\n",
       "                           validation_fraction=0.1, verbose=0,\n",
       "                           warm_start=False)"
      ]
     },
     "execution_count": 68,
     "metadata": {},
     "output_type": "execute_result"
    }
   ],
   "source": [
    "gb_clf = ensemble.GradientBoostingClassifier(learning_rate= 0.1,  max_depth= 4, \n",
    "                                             max_features= 1.0, min_samples_leaf= 1, n_estimators= 50)\n",
    "\n",
    "gb_clf.fit(X_train, y_train)"
   ]
  },
  {
   "cell_type": "code",
   "execution_count": 69,
   "metadata": {},
   "outputs": [
    {
     "data": {
      "text/plain": [
       "0.9971590909090909"
      ]
     },
     "execution_count": 69,
     "metadata": {},
     "output_type": "execute_result"
    }
   ],
   "source": [
    "gb_clf.score(X_train, y_train)"
   ]
  },
  {
   "cell_type": "code",
   "execution_count": 70,
   "metadata": {},
   "outputs": [
    {
     "data": {
      "text/plain": [
       "0.9772727272727273"
      ]
     },
     "execution_count": 70,
     "metadata": {},
     "output_type": "execute_result"
    }
   ],
   "source": [
    "gb_clf.score(X_test, y_test)"
   ]
  },
  {
   "cell_type": "code",
   "execution_count": 72,
   "metadata": {},
   "outputs": [
    {
     "data": {
      "text/plain": [
       "array(['Retail', 'Retail', 'HoReCa', 'HoReCa', 'Retail', 'HoReCa',\n",
       "       'HoReCa', 'Retail', 'Retail', 'HoReCa', 'Retail', 'HoReCa',\n",
       "       'HoReCa', 'HoReCa', 'HoReCa', 'HoReCa', 'Retail', 'HoReCa',\n",
       "       'Retail', 'HoReCa', 'HoReCa', 'HoReCa', 'Retail', 'Retail',\n",
       "       'HoReCa', 'HoReCa', 'HoReCa', 'Retail', 'Retail', 'Retail',\n",
       "       'HoReCa', 'HoReCa', 'HoReCa', 'HoReCa', 'HoReCa', 'HoReCa',\n",
       "       'HoReCa', 'HoReCa', 'HoReCa', 'Retail', 'HoReCa', 'HoReCa',\n",
       "       'Retail', 'HoReCa', 'Retail', 'HoReCa', 'Retail', 'HoReCa',\n",
       "       'HoReCa', 'HoReCa', 'Retail', 'Retail', 'HoReCa', 'Retail',\n",
       "       'HoReCa', 'HoReCa', 'HoReCa', 'HoReCa', 'Retail', 'HoReCa',\n",
       "       'HoReCa', 'HoReCa', 'HoReCa', 'HoReCa', 'Retail', 'HoReCa',\n",
       "       'Retail', 'HoReCa', 'HoReCa', 'HoReCa', 'HoReCa', 'HoReCa',\n",
       "       'Retail', 'HoReCa', 'HoReCa', 'HoReCa', 'HoReCa', 'HoReCa',\n",
       "       'HoReCa', 'Retail', 'HoReCa', 'HoReCa', 'HoReCa', 'Retail',\n",
       "       'HoReCa', 'Retail', 'Retail', 'HoReCa'], dtype=object)"
      ]
     },
     "execution_count": 72,
     "metadata": {},
     "output_type": "execute_result"
    }
   ],
   "source": [
    "gb_clf.predict(X_test)"
   ]
  },
  {
   "cell_type": "markdown",
   "metadata": {},
   "source": [
    "- This accuracy is we will use this accuracy as baseline accuracy to improve my model. "
   ]
  },
  {
   "cell_type": "code",
   "execution_count": 36,
   "metadata": {},
   "outputs": [
    {
     "data": {
      "text/plain": [
       "Fresh               12669\n",
       "Milk                 9656\n",
       "Grocery              7561\n",
       "Frozen                214\n",
       "Detergents_Paper     2674\n",
       "Delicassen           1338\n",
       "Name: 0, dtype: int64"
      ]
     },
     "execution_count": 36,
     "metadata": {},
     "output_type": "execute_result"
    }
   ],
   "source": [
    "df_features.loc[0,:]"
   ]
  },
  {
   "cell_type": "code",
   "execution_count": 37,
   "metadata": {},
   "outputs": [
    {
     "name": "stderr",
     "output_type": "stream",
     "text": [
      "C:\\Users\\tzwth\\Anaconda3\\envs\\ai\\lib\\site-packages\\sklearn\\ensemble\\_gb.py:1454: DataConversionWarning: A column-vector y was passed when a 1d array was expected. Please change the shape of y to (n_samples, ), for example using ravel().\n",
      "  y = column_or_1d(y, warn=True)\n"
     ]
    },
    {
     "data": {
      "text/plain": [
       "GradientBoostingClassifier(ccp_alpha=0.0, criterion='friedman_mse', init=None,\n",
       "                           learning_rate=0.1, loss='deviance', max_depth=4,\n",
       "                           max_features=1.0, max_leaf_nodes=None,\n",
       "                           min_impurity_decrease=0.0, min_impurity_split=None,\n",
       "                           min_samples_leaf=1, min_samples_split=2,\n",
       "                           min_weight_fraction_leaf=0.0, n_estimators=50,\n",
       "                           n_iter_no_change=None, presort='deprecated',\n",
       "                           random_state=None, subsample=1.0, tol=0.0001,\n",
       "                           validation_fraction=0.1, verbose=0,\n",
       "                           warm_start=False)"
      ]
     },
     "execution_count": 37,
     "metadata": {},
     "output_type": "execute_result"
    }
   ],
   "source": [
    "#Retrain with best params and four importance features\n",
    "gb_clf = ensemble.GradientBoostingClassifier(learning_rate= 0.1,  max_depth= 4, \n",
    "                                             max_features= 1.0, min_samples_leaf= 1, n_estimators= 50)\n",
    "\n",
    "gb_clf.fit(X_train, y_train)"
   ]
  },
  {
   "cell_type": "markdown",
   "metadata": {},
   "source": [
    "**Measuring Accuracy (Best Params and Four Importance Features)**"
   ]
  },
  {
   "cell_type": "code",
   "execution_count": null,
   "metadata": {},
   "outputs": [],
   "source": [
    "gb_clf.score(X_train, y_train)"
   ]
  },
  {
   "cell_type": "code",
   "execution_count": 38,
   "metadata": {},
   "outputs": [
    {
     "data": {
      "text/plain": [
       "0.9204545454545454"
      ]
     },
     "execution_count": 38,
     "metadata": {},
     "output_type": "execute_result"
    }
   ],
   "source": [
    "gb_clf.score(X_test, y_test)"
   ]
  },
  {
   "cell_type": "code",
   "execution_count": null,
   "metadata": {},
   "outputs": [],
   "source": [
    "#Retrain again with n_estimators=100 and four importance features\n",
    "gb_clf = ensemble.GradientBoostingClassifier(learning_rate= 0.1,  max_depth= 4, \n",
    "                                             max_features= 1.0, min_samples_leaf= 1, n_estimators= 100)\n",
    "\n",
    "gb_clf.fit(X_train, y_train)"
   ]
  },
  {
   "cell_type": "markdown",
   "metadata": {},
   "source": [
    "**Measuring Accuracy (n_estimators=100 and Four Importance Features)**"
   ]
  },
  {
   "cell_type": "code",
   "execution_count": 39,
   "metadata": {},
   "outputs": [
    {
     "data": {
      "text/plain": [
       "1.0"
      ]
     },
     "execution_count": 39,
     "metadata": {},
     "output_type": "execute_result"
    }
   ],
   "source": [
    "gb_clf.score(X_train, y_train)"
   ]
  },
  {
   "cell_type": "code",
   "execution_count": 40,
   "metadata": {},
   "outputs": [
    {
     "data": {
      "text/plain": [
       "0.9204545454545454"
      ]
     },
     "execution_count": 40,
     "metadata": {},
     "output_type": "execute_result"
    }
   ],
   "source": [
    "gb_clf.score(X_test, y_test)"
   ]
  },
  {
   "cell_type": "markdown",
   "metadata": {},
   "source": [
    "### Perform Classification Using Decision Tree Classifier"
   ]
  },
  {
   "cell_type": "code",
   "execution_count": 41,
   "metadata": {},
   "outputs": [
    {
     "data": {
      "text/plain": [
       "DecisionTreeClassifier(ccp_alpha=0.0, class_weight=None, criterion='gini',\n",
       "                       max_depth=None, max_features=None, max_leaf_nodes=None,\n",
       "                       min_impurity_decrease=0.0, min_impurity_split=None,\n",
       "                       min_samples_leaf=1, min_samples_split=2,\n",
       "                       min_weight_fraction_leaf=0.0, presort='deprecated',\n",
       "                       random_state=None, splitter='best')"
      ]
     },
     "execution_count": 41,
     "metadata": {},
     "output_type": "execute_result"
    }
   ],
   "source": [
    "from sklearn import tree\n",
    "\n",
    "#train with defult paramaters\n",
    "dt_clf = tree.DecisionTreeClassifier() \n",
    "\n",
    "dt_clf.fit(X_train, y_train)"
   ]
  },
  {
   "cell_type": "markdown",
   "metadata": {},
   "source": [
    "**Measuring Accuracy(Defult Parametrs)**"
   ]
  },
  {
   "cell_type": "code",
   "execution_count": 42,
   "metadata": {},
   "outputs": [
    {
     "data": {
      "text/plain": [
       "1.0"
      ]
     },
     "execution_count": 42,
     "metadata": {},
     "output_type": "execute_result"
    }
   ],
   "source": [
    "dt_clf.score(X_train, y_train)"
   ]
  },
  {
   "cell_type": "code",
   "execution_count": 43,
   "metadata": {},
   "outputs": [
    {
     "data": {
      "text/plain": [
       "0.9090909090909091"
      ]
     },
     "execution_count": 43,
     "metadata": {},
     "output_type": "execute_result"
    }
   ],
   "source": [
    "dt_clf.score(X_test, y_test)"
   ]
  },
  {
   "cell_type": "code",
   "execution_count": 44,
   "metadata": {},
   "outputs": [
    {
     "data": {
      "text/plain": [
       "DecisionTreeClassifier(ccp_alpha=0.0, class_weight=None, criterion='gini',\n",
       "                       max_depth=5, max_features=None, max_leaf_nodes=None,\n",
       "                       min_impurity_decrease=0.0, min_impurity_split=None,\n",
       "                       min_samples_leaf=1, min_samples_split=2,\n",
       "                       min_weight_fraction_leaf=0.0, presort='deprecated',\n",
       "                       random_state=None, splitter='best')"
      ]
     },
     "execution_count": 44,
     "metadata": {},
     "output_type": "execute_result"
    }
   ],
   "source": [
    "from sklearn import tree\n",
    "#Retrain with (max_depth=5)\n",
    "dt_clf = tree.DecisionTreeClassifier(max_depth=5)\n",
    "\n",
    "dt_clf.fit(X_train, y_train)"
   ]
  },
  {
   "cell_type": "code",
   "execution_count": 45,
   "metadata": {},
   "outputs": [
    {
     "data": {
      "text/plain": [
       "0.9715909090909091"
      ]
     },
     "execution_count": 45,
     "metadata": {},
     "output_type": "execute_result"
    }
   ],
   "source": [
    "dt_clf.score(X_train, y_train)"
   ]
  },
  {
   "cell_type": "code",
   "execution_count": 46,
   "metadata": {},
   "outputs": [
    {
     "data": {
      "text/plain": [
       "0.9318181818181818"
      ]
     },
     "execution_count": 46,
     "metadata": {},
     "output_type": "execute_result"
    }
   ],
   "source": [
    "dt_clf.score(X_test, y_test)"
   ]
  },
  {
   "cell_type": "markdown",
   "metadata": {},
   "source": [
    "### Perform Classification Using Random Forest Classifier"
   ]
  },
  {
   "cell_type": "code",
   "execution_count": 47,
   "metadata": {},
   "outputs": [
    {
     "name": "stderr",
     "output_type": "stream",
     "text": [
      "C:\\Users\\tzwth\\Anaconda3\\envs\\ai\\lib\\site-packages\\ipykernel_launcher.py:5: DataConversionWarning: A column-vector y was passed when a 1d array was expected. Please change the shape of y to (n_samples,), for example using ravel().\n",
      "  \"\"\"\n"
     ]
    },
    {
     "data": {
      "text/plain": [
       "RandomForestClassifier(bootstrap=True, ccp_alpha=0.0, class_weight=None,\n",
       "                       criterion='gini', max_depth=None, max_features='auto',\n",
       "                       max_leaf_nodes=None, max_samples=None,\n",
       "                       min_impurity_decrease=0.0, min_impurity_split=None,\n",
       "                       min_samples_leaf=1, min_samples_split=2,\n",
       "                       min_weight_fraction_leaf=0.0, n_estimators=100,\n",
       "                       n_jobs=None, oob_score=False, random_state=None,\n",
       "                       verbose=0, warm_start=False)"
      ]
     },
     "execution_count": 47,
     "metadata": {},
     "output_type": "execute_result"
    }
   ],
   "source": [
    "from sklearn import ensemble\n",
    "#train with defult parameters\n",
    "rf_clf = ensemble.RandomForestClassifier()\n",
    "\n",
    "rf_clf.fit(X_train, y_train)"
   ]
  },
  {
   "cell_type": "markdown",
   "metadata": {},
   "source": [
    "**Measuring Accuracy (Defult paprmeters)**"
   ]
  },
  {
   "cell_type": "code",
   "execution_count": 48,
   "metadata": {},
   "outputs": [
    {
     "data": {
      "text/plain": [
       "1.0"
      ]
     },
     "execution_count": 48,
     "metadata": {},
     "output_type": "execute_result"
    }
   ],
   "source": [
    "rf_clf.score(X_train, y_train)"
   ]
  },
  {
   "cell_type": "code",
   "execution_count": 49,
   "metadata": {},
   "outputs": [
    {
     "data": {
      "text/plain": [
       "0.9204545454545454"
      ]
     },
     "execution_count": 49,
     "metadata": {},
     "output_type": "execute_result"
    }
   ],
   "source": [
    "rf_clf.score(X_test, y_test)"
   ]
  },
  {
   "cell_type": "code",
   "execution_count": 50,
   "metadata": {},
   "outputs": [
    {
     "name": "stderr",
     "output_type": "stream",
     "text": [
      "C:\\Users\\tzwth\\Anaconda3\\envs\\ai\\lib\\site-packages\\ipykernel_launcher.py:6: DataConversionWarning: A column-vector y was passed when a 1d array was expected. Please change the shape of y to (n_samples,), for example using ravel().\n",
      "  \n"
     ]
    },
    {
     "data": {
      "text/plain": [
       "RandomForestClassifier(bootstrap=True, ccp_alpha=0.0, class_weight=None,\n",
       "                       criterion='gini', max_depth=None, max_features='auto',\n",
       "                       max_leaf_nodes=None, max_samples=None,\n",
       "                       min_impurity_decrease=0.0, min_impurity_split=None,\n",
       "                       min_samples_leaf=1, min_samples_split=2,\n",
       "                       min_weight_fraction_leaf=0.0, n_estimators=100,\n",
       "                       n_jobs=None, oob_score=False, random_state=None,\n",
       "                       verbose=0, warm_start=False)"
      ]
     },
     "execution_count": 50,
     "metadata": {},
     "output_type": "execute_result"
    }
   ],
   "source": [
    "from sklearn import ensemble\n",
    "\n",
    "#retrain with (n_estimators=100)\n",
    "rf_clf = ensemble.RandomForestClassifier(n_estimators= 100)\n",
    "\n",
    "rf_clf.fit(X_train, y_train)"
   ]
  },
  {
   "cell_type": "markdown",
   "metadata": {},
   "source": [
    "**Measuring Accuracy (n_estimators=100)**"
   ]
  },
  {
   "cell_type": "code",
   "execution_count": 51,
   "metadata": {},
   "outputs": [
    {
     "data": {
      "text/plain": [
       "1.0"
      ]
     },
     "execution_count": 51,
     "metadata": {},
     "output_type": "execute_result"
    }
   ],
   "source": [
    "rf_clf.score(X_train, y_train)"
   ]
  },
  {
   "cell_type": "code",
   "execution_count": 52,
   "metadata": {},
   "outputs": [
    {
     "data": {
      "text/plain": [
       "0.9204545454545454"
      ]
     },
     "execution_count": 52,
     "metadata": {},
     "output_type": "execute_result"
    }
   ],
   "source": [
    "rf_clf.score(X_test, y_test)"
   ]
  },
  {
   "cell_type": "code",
   "execution_count": 53,
   "metadata": {},
   "outputs": [
    {
     "data": {
      "text/plain": [
       "array(['Retail'], dtype=object)"
      ]
     },
     "execution_count": 53,
     "metadata": {},
     "output_type": "execute_result"
    }
   ],
   "source": [
    "pre=[12669,\n",
    "9656,\n",
    "7561,\n",
    "214,\n",
    "2674,\n",
    "1338]\n",
    "pre1=[pre]\n",
    "rf_clf.predict(pre1)"
   ]
  },
  {
   "cell_type": "markdown",
   "metadata": {},
   "source": [
    "Note :Ramdom Forest Classifier is the best calssifier"
   ]
  },
  {
   "cell_type": "markdown",
   "metadata": {},
   "source": [
    "> # Assessment of the Model"
   ]
  },
  {
   "cell_type": "code",
   "execution_count": null,
   "metadata": {},
   "outputs": [],
   "source": [
    "from sklearn.metrics import accuracy_score\n",
    "from sklearn.metrics import confusion_matrix\n",
    "from sklearn.metrics import classification_report\n",
    "\n",
    "# Make predictions on validation dataset\n",
    "rf_clf = ensemble.RandomForestClassifier(n_estimators=50)\n",
    "\n",
    "rf_clf.fit(X_train, y_train)\n",
    "predictions = rf_clf.predict(X_test)\n",
    "print(\"Accuracy:\")\n",
    "print(accuracy_score(y_test, predictions))\n",
    "print()\n",
    "print(\"Confusion matrix:\")\n",
    "print(confusion_matrix(y_test, predictions))\n",
    "print()\n",
    "print(\"Classification report:\")\n",
    "print(classification_report(y_test, predictions))"
   ]
  },
  {
   "cell_type": "markdown",
   "metadata": {},
   "source": [
    "> # Results and Conclusion"
   ]
  },
  {
   "cell_type": "markdown",
   "metadata": {},
   "source": [
    "In this project, we implement three different algorithms(Gradient Boosting ,Decision Tree and Random Forest) with Python and Scikit-Learn to classify the customers from two different channels as HoReCa (Hotel/Retail/Café) customers or Retail customers.\n",
    "\n",
    "The y labels contain values as 1 and 2. We have converted them into HoReCa and Retail for further analysis.\n",
    "\n",
    "1)Gradient Boosting Classifier\n",
    " - I'd used GridSeachCV (to get best parameters) and all features to train the model\n",
    " - I'd adjusted one of hyper parameter and retrain my model with Five Importance to get highest accuracry scores\n",
    "In Gradient Boosting Classifier\n",
    " - The Highest Accuracy of Training Data is 1.0\n",
    " - The Highest Accuracy of Testing Data is 0.886\n",
    " \n",
    "2)Decision Tree Classifier\n",
    " - I'd trained my model with defult parameters \n",
    " - I'd adjusted hypermeter (max_depth=5) and retrained my model\n",
    "In Decision Tree Classifier\n",
    " - The Highest Accuracy of Training Data is 0.965\n",
    " - The Highest Accuracy of Testing Data is 0.897\n",
    "\n",
    "3)Random Forest Classifier\n",
    " - I'd trained my model with defult parameters\n",
    " - I'd adjusted hypermeter (n_estimator) and retrained my model\n",
    "In Random Forest Classifier\n",
    " - The Highest Accuracy of Training Data is 1.0\n",
    " - The Highest Accuracy of Testing Data is 0.897\n",
    "\n",
    "##### Ramdom Forest Classifier is the best classifier for this project##"
   ]
  },
  {
   "cell_type": "markdown",
   "metadata": {},
   "source": [
    "# Reference"
   ]
  },
  {
   "cell_type": "markdown",
   "metadata": {},
   "source": [
    "The ideas and concepts in this project are taken from the following websites -\n",
    "Algorithms\n",
    " - https://scikit-learn.org/stable/modules/generated/sklearn.ensemble.GradientBoostingClassifier.html\n",
    " - https://scikit-learn.org/stable/modules/generated/sklearn.tree.DecisionTreeClassifier.html\n",
    " - https://scikit-learn.org/stable/modules/generated/sklearn.ensemble.RandomForestClassifier.html\n",
    "\n",
    " - https://archive.ics.uci.edu/ml/machine-learning-databases/00292/Wholesale%20customers%20data.csv\n",
    " - https://en.wikipedia.org/wiki/F1_score\n",
    " - https://scikit-learn.org/stable/modules/generated/sklearn.metrics.precision_recall_fscore_support.html\n",
    " - http://joshlawman.com/metrics-classification-report-breakdown-precision-recall-f1/\n",
    " - https://en.wikipedia.org/wiki/Confusion_matrix\n",
    " - https://www.dataschool.io/simple-guide-to-confusion-matrix-terminology/ \n",
    " - https://www.kaggle.com/prashant111/xgboost-k-fold-cv-feature-importance\n",
    " "
   ]
  },
  {
   "cell_type": "markdown",
   "metadata": {},
   "source": [
    "Table of Contents\n",
    "1 Introduction to XGBoost Algorithm\n",
    "1.1 Evolution of tree-based algorithm\n",
    "1.2 Main features of XGBoost\n",
    "2 Bagging vs Boosting\n",
    "2.1 Bagging\n",
    "2.2 Boosting\n",
    "3 XGBoost algorithm intuition\n",
    "3.1 Gradient Boosting\n",
    "3.2 Gradient Boosted Trees\n",
    "3.3 Extreme Gradient Boosting (XGBoost)\n",
    "4 Implementing XGBoost in Python\n",
    "4.1 Load libraries\n",
    "4.2 Read dataset\n",
    "4.3 EDA\n",
    "4.3.1 Shape of dataset\n",
    "4.3.2 Preview dataset\n",
    "4.3.3 Summary of dataset\n",
    "4.3.4 Summary statistics of dataset\n",
    "4.3.5 Check for missing values\n",
    "4.4 Declare feature vector and target variable\n",
    "4.5 Split data into separate training and test set\n",
    "4.6 Train the XGBoost Classifier\n",
    "4.7 Make predictions with XGBoost Classifier\n",
    "4.8 Check accuracy score\n",
    "5 k-fold Cross Validation using XGBoost\n",
    "6 Visualizing Feature Importance with XGBoost\n",
    "7 Results and Conclusion\n",
    "8 References"
   ]
  },
  {
   "cell_type": "code",
   "execution_count": null,
   "metadata": {},
   "outputs": [],
   "source": []
  }
 ],
 "metadata": {
  "kernelspec": {
   "display_name": "Python 3",
   "language": "python",
   "name": "python3"
  },
  "language_info": {
   "codemirror_mode": {
    "name": "ipython",
    "version": 3
   },
   "file_extension": ".py",
   "mimetype": "text/x-python",
   "name": "python",
   "nbconvert_exporter": "python",
   "pygments_lexer": "ipython3",
   "version": "3.7.7"
  }
 },
 "nbformat": 4,
 "nbformat_minor": 4
}
